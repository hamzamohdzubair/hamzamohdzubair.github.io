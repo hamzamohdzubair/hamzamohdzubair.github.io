{
 "cells": [
  {
   "cell_type": "markdown",
   "metadata": {
    "nbpresent": {
     "id": "b1e25e71-c72e-43f8-a9b8-e98205982d4c"
    },
    "slideshow": {
     "slide_type": "slide"
    }
   },
   "source": [
    "# DPLYR Package "
   ]
  },
  {
   "cell_type": "markdown",
   "metadata": {},
   "source": [
    "## Important Functions\n",
    "1. [Select()](#Select)\n",
    "2. [Filter()](#Filter)\n",
    "3. [Arrange()](#Arrange)\n",
    "4. [Rename()](#Rename)\n",
    "5. [Mutate()](#Mutate)\n",
    "6. [Group_by()](#Group_by)\n",
    "7. [%>%](#%>%)"
   ]
  },
  {
   "cell_type": "code",
   "execution_count": 23,
   "metadata": {
    "collapsed": false,
    "nbpresent": {
     "id": "21e5327a-09b8-4321-8717-d032d2e9f881"
    },
    "slideshow": {
     "slide_type": "slide"
    }
   },
   "outputs": [
    {
     "data": {
      "text/html": [
       "<ol class=list-inline>\n",
       "\t<li>'.GlobalEnv'</li>\n",
       "\t<li>'package:dplyr'</li>\n",
       "\t<li>'jupyter:irkernel'</li>\n",
       "\t<li>'package:stats'</li>\n",
       "\t<li>'package:graphics'</li>\n",
       "\t<li>'package:grDevices'</li>\n",
       "\t<li>'package:utils'</li>\n",
       "\t<li>'package:datasets'</li>\n",
       "\t<li>'package:methods'</li>\n",
       "\t<li>'Autoloads'</li>\n",
       "\t<li>'package:base'</li>\n",
       "</ol>\n"
      ],
      "text/latex": [
       "\\begin{enumerate*}\n",
       "\\item '.GlobalEnv'\n",
       "\\item 'package:dplyr'\n",
       "\\item 'jupyter:irkernel'\n",
       "\\item 'package:stats'\n",
       "\\item 'package:graphics'\n",
       "\\item 'package:grDevices'\n",
       "\\item 'package:utils'\n",
       "\\item 'package:datasets'\n",
       "\\item 'package:methods'\n",
       "\\item 'Autoloads'\n",
       "\\item 'package:base'\n",
       "\\end{enumerate*}\n"
      ],
      "text/markdown": [
       "1. '.GlobalEnv'\n",
       "2. 'package:dplyr'\n",
       "3. 'jupyter:irkernel'\n",
       "4. 'package:stats'\n",
       "5. 'package:graphics'\n",
       "6. 'package:grDevices'\n",
       "7. 'package:utils'\n",
       "8. 'package:datasets'\n",
       "9. 'package:methods'\n",
       "10. 'Autoloads'\n",
       "11. 'package:base'\n",
       "\n",
       "\n"
      ],
      "text/plain": [
       " [1] \".GlobalEnv\"        \"package:dplyr\"     \"jupyter:irkernel\" \n",
       " [4] \"package:stats\"     \"package:graphics\"  \"package:grDevices\"\n",
       " [7] \"package:utils\"     \"package:datasets\"  \"package:methods\"  \n",
       "[10] \"Autoloads\"         \"package:base\"     "
      ]
     },
     "metadata": {},
     "output_type": "display_data"
    }
   ],
   "source": [
    "search()"
   ]
  },
  {
   "cell_type": "code",
   "execution_count": 24,
   "metadata": {
    "collapsed": false,
    "nbpresent": {
     "id": "6c963ea5-6f5e-4e0e-9e15-c34be5d9dec3"
    },
    "slideshow": {
     "slide_type": "slide"
    }
   },
   "outputs": [],
   "source": [
    "library(dplyr)"
   ]
  },
  {
   "cell_type": "code",
   "execution_count": 25,
   "metadata": {
    "collapsed": true,
    "nbpresent": {
     "id": "9990f1f9-640a-4b86-bdc5-2c0cea9c1a8e"
    },
    "slideshow": {
     "slide_type": "subslide"
    }
   },
   "outputs": [],
   "source": [
    "chi=readRDS(\"chicago.rds\")"
   ]
  },
  {
   "cell_type": "code",
   "execution_count": 26,
   "metadata": {
    "collapsed": false
   },
   "outputs": [
    {
     "name": "stdout",
     "output_type": "stream",
     "text": [
      "Observations: 6,940\n",
      "Variables: 8\n",
      "$ city       <chr> \"chic\", \"chic\", \"chic\", \"chic\", \"chic\", \"chic\", \"chic\", ...\n",
      "$ tmpd       <dbl> 31.5, 33.0, 33.0, 29.0, 32.0, 40.0, 34.5, 29.0, 26.5, 32...\n",
      "$ dptp       <dbl> 31.500, 29.875, 27.375, 28.625, 28.875, 35.125, 26.750, ...\n",
      "$ date       <date> 1987-01-01, 1987-01-02, 1987-01-03, 1987-01-04, 1987-01...\n",
      "$ pm25tmean2 <dbl> NA, NA, NA, NA, NA, NA, NA, NA, NA, NA, NA, NA, NA, NA, ...\n",
      "$ pm10tmean2 <dbl> 34.00000, NA, 34.16667, 47.00000, NA, 48.00000, 41.00000...\n",
      "$ o3tmean2   <dbl> 4.250000, 3.304348, 3.333333, 4.375000, 4.750000, 5.8333...\n",
      "$ no2tmean2  <dbl> 19.98810, 23.19099, 23.81548, 30.43452, 30.33333, 25.772...\n"
     ]
    }
   ],
   "source": [
    "dplyr::glimpse(chi)"
   ]
  },
  {
   "cell_type": "code",
   "execution_count": 27,
   "metadata": {
    "collapsed": false,
    "nbpresent": {
     "id": "9cfa8bc1-d6aa-477c-bfbf-110205630473"
    },
    "scrolled": true,
    "slideshow": {
     "slide_type": "subslide"
    }
   },
   "outputs": [
    {
     "data": {
      "text/html": [
       "<table>\n",
       "<thead><tr><th scope=col>city</th><th scope=col>tmpd</th><th scope=col>dptp</th><th scope=col>date</th><th scope=col>pm25tmean2</th><th scope=col>pm10tmean2</th><th scope=col>o3tmean2</th><th scope=col>no2tmean2</th></tr></thead>\n",
       "<tbody>\n",
       "\t<tr><td>chic      </td><td>31.5      </td><td>31.500    </td><td>1987-01-01</td><td>NA        </td><td>34.00000  </td><td>4.250000  </td><td>19.98810  </td></tr>\n",
       "\t<tr><td>chic      </td><td>33.0      </td><td>29.875    </td><td>1987-01-02</td><td>NA        </td><td>      NA  </td><td>3.304348  </td><td>23.19099  </td></tr>\n",
       "\t<tr><td>chic      </td><td>33.0      </td><td>27.375    </td><td>1987-01-03</td><td>NA        </td><td>34.16667  </td><td>3.333333  </td><td>23.81548  </td></tr>\n",
       "\t<tr><td>chic      </td><td>29.0      </td><td>28.625    </td><td>1987-01-04</td><td>NA        </td><td>47.00000  </td><td>4.375000  </td><td>30.43452  </td></tr>\n",
       "\t<tr><td>chic      </td><td>32.0      </td><td>28.875    </td><td>1987-01-05</td><td>NA        </td><td>      NA  </td><td>4.750000  </td><td>30.33333  </td></tr>\n",
       "\t<tr><td>chic      </td><td>40.0      </td><td>35.125    </td><td>1987-01-06</td><td>NA        </td><td>48.00000  </td><td>5.833333  </td><td>25.77233  </td></tr>\n",
       "</tbody>\n",
       "</table>\n"
      ],
      "text/latex": [
       "\\begin{tabular}{r|llllllll}\n",
       " city & tmpd & dptp & date & pm25tmean2 & pm10tmean2 & o3tmean2 & no2tmean2\\\\\n",
       "\\hline\n",
       "\t chic       & 31.5       & 31.500     & 1987-01-01 & NA         & 34.00000   & 4.250000   & 19.98810  \\\\\n",
       "\t chic       & 33.0       & 29.875     & 1987-01-02 & NA         &       NA   & 3.304348   & 23.19099  \\\\\n",
       "\t chic       & 33.0       & 27.375     & 1987-01-03 & NA         & 34.16667   & 3.333333   & 23.81548  \\\\\n",
       "\t chic       & 29.0       & 28.625     & 1987-01-04 & NA         & 47.00000   & 4.375000   & 30.43452  \\\\\n",
       "\t chic       & 32.0       & 28.875     & 1987-01-05 & NA         &       NA   & 4.750000   & 30.33333  \\\\\n",
       "\t chic       & 40.0       & 35.125     & 1987-01-06 & NA         & 48.00000   & 5.833333   & 25.77233  \\\\\n",
       "\\end{tabular}\n"
      ],
      "text/plain": [
       "  city tmpd dptp   date       pm25tmean2 pm10tmean2 o3tmean2 no2tmean2\n",
       "1 chic 31.5 31.500 1987-01-01 NA         34.00000   4.250000 19.98810 \n",
       "2 chic 33.0 29.875 1987-01-02 NA               NA   3.304348 23.19099 \n",
       "3 chic 33.0 27.375 1987-01-03 NA         34.16667   3.333333 23.81548 \n",
       "4 chic 29.0 28.625 1987-01-04 NA         47.00000   4.375000 30.43452 \n",
       "5 chic 32.0 28.875 1987-01-05 NA               NA   4.750000 30.33333 \n",
       "6 chic 40.0 35.125 1987-01-06 NA         48.00000   5.833333 25.77233 "
      ]
     },
     "metadata": {},
     "output_type": "display_data"
    }
   ],
   "source": [
    "head(chi)"
   ]
  },
  {
   "cell_type": "code",
   "execution_count": 28,
   "metadata": {
    "collapsed": false,
    "nbpresent": {
     "id": "21220ce4-5b4f-4482-ab12-4688e39c3d72"
    },
    "slideshow": {
     "slide_type": "fragment"
    }
   },
   "outputs": [
    {
     "data": {
      "text/html": [
       "<ol class=list-inline>\n",
       "\t<li>6940</li>\n",
       "\t<li>8</li>\n",
       "</ol>\n"
      ],
      "text/latex": [
       "\\begin{enumerate*}\n",
       "\\item 6940\n",
       "\\item 8\n",
       "\\end{enumerate*}\n"
      ],
      "text/markdown": [
       "1. 6940\n",
       "2. 8\n",
       "\n",
       "\n"
      ],
      "text/plain": [
       "[1] 6940    8"
      ]
     },
     "metadata": {},
     "output_type": "display_data"
    }
   ],
   "source": [
    "dim(chi)"
   ]
  },
  {
   "cell_type": "code",
   "execution_count": 29,
   "metadata": {
    "collapsed": false,
    "nbpresent": {
     "id": "f58a6d08-b6a4-468c-a901-ca1409d4e551"
    },
    "slideshow": {
     "slide_type": "fragment"
    }
   },
   "outputs": [
    {
     "name": "stdout",
     "output_type": "stream",
     "text": [
      "'data.frame':\t6940 obs. of  8 variables:\n",
      " $ city      : chr  \"chic\" \"chic\" \"chic\" \"chic\" ...\n",
      " $ tmpd      : num  31.5 33 33 29 32 40 34.5 29 26.5 32.5 ...\n",
      " $ dptp      : num  31.5 29.9 27.4 28.6 28.9 ...\n",
      " $ date      : Date, format: \"1987-01-01\" \"1987-01-02\" ...\n",
      " $ pm25tmean2: num  NA NA NA NA NA NA NA NA NA NA ...\n",
      " $ pm10tmean2: num  34 NA 34.2 47 NA ...\n",
      " $ o3tmean2  : num  4.25 3.3 3.33 4.38 4.75 ...\n",
      " $ no2tmean2 : num  20 23.2 23.8 30.4 30.3 ...\n"
     ]
    }
   ],
   "source": [
    "str(chi)"
   ]
  },
  {
   "cell_type": "markdown",
   "metadata": {},
   "source": [
    "## Select"
   ]
  },
  {
   "cell_type": "code",
   "execution_count": 30,
   "metadata": {
    "collapsed": false
   },
   "outputs": [
    {
     "data": {
      "text/html": [
       "<table>\n",
       "<thead><tr><th scope=col>city</th><th scope=col>tmpd</th><th scope=col>dptp</th><th scope=col>date</th></tr></thead>\n",
       "<tbody>\n",
       "\t<tr><td>chic      </td><td>31.5      </td><td>31.500    </td><td>1987-01-01</td></tr>\n",
       "\t<tr><td>chic      </td><td>33.0      </td><td>29.875    </td><td>1987-01-02</td></tr>\n",
       "\t<tr><td>chic      </td><td>33.0      </td><td>27.375    </td><td>1987-01-03</td></tr>\n",
       "\t<tr><td>chic      </td><td>29.0      </td><td>28.625    </td><td>1987-01-04</td></tr>\n",
       "\t<tr><td>chic      </td><td>32.0      </td><td>28.875    </td><td>1987-01-05</td></tr>\n",
       "\t<tr><td>chic      </td><td>40.0      </td><td>35.125    </td><td>1987-01-06</td></tr>\n",
       "</tbody>\n",
       "</table>\n"
      ],
      "text/latex": [
       "\\begin{tabular}{r|llll}\n",
       " city & tmpd & dptp & date\\\\\n",
       "\\hline\n",
       "\t chic       & 31.5       & 31.500     & 1987-01-01\\\\\n",
       "\t chic       & 33.0       & 29.875     & 1987-01-02\\\\\n",
       "\t chic       & 33.0       & 27.375     & 1987-01-03\\\\\n",
       "\t chic       & 29.0       & 28.625     & 1987-01-04\\\\\n",
       "\t chic       & 32.0       & 28.875     & 1987-01-05\\\\\n",
       "\t chic       & 40.0       & 35.125     & 1987-01-06\\\\\n",
       "\\end{tabular}\n"
      ],
      "text/plain": [
       "  city tmpd dptp   date      \n",
       "1 chic 31.5 31.500 1987-01-01\n",
       "2 chic 33.0 29.875 1987-01-02\n",
       "3 chic 33.0 27.375 1987-01-03\n",
       "4 chic 29.0 28.625 1987-01-04\n",
       "5 chic 32.0 28.875 1987-01-05\n",
       "6 chic 40.0 35.125 1987-01-06"
      ]
     },
     "metadata": {},
     "output_type": "display_data"
    }
   ],
   "source": [
    "chi1=select(chi,city:date)\n",
    "head(chi1)"
   ]
  },
  {
   "cell_type": "code",
   "execution_count": 31,
   "metadata": {
    "collapsed": false
   },
   "outputs": [
    {
     "data": {
      "text/html": [
       "<table>\n",
       "<thead><tr><th scope=col>city</th><th scope=col>tmpd</th><th scope=col>dptp</th><th scope=col>date</th><th scope=col>pm25tmean2</th></tr></thead>\n",
       "<tbody>\n",
       "\t<tr><td>chic      </td><td>31.5      </td><td>31.500    </td><td>1987-01-01</td><td>NA        </td></tr>\n",
       "\t<tr><td>chic      </td><td>33.0      </td><td>29.875    </td><td>1987-01-02</td><td>NA        </td></tr>\n",
       "\t<tr><td>chic      </td><td>33.0      </td><td>27.375    </td><td>1987-01-03</td><td>NA        </td></tr>\n",
       "\t<tr><td>chic      </td><td>29.0      </td><td>28.625    </td><td>1987-01-04</td><td>NA        </td></tr>\n",
       "\t<tr><td>chic      </td><td>32.0      </td><td>28.875    </td><td>1987-01-05</td><td>NA        </td></tr>\n",
       "\t<tr><td>chic      </td><td>40.0      </td><td>35.125    </td><td>1987-01-06</td><td>NA        </td></tr>\n",
       "</tbody>\n",
       "</table>\n"
      ],
      "text/latex": [
       "\\begin{tabular}{r|lllll}\n",
       " city & tmpd & dptp & date & pm25tmean2\\\\\n",
       "\\hline\n",
       "\t chic       & 31.5       & 31.500     & 1987-01-01 & NA        \\\\\n",
       "\t chic       & 33.0       & 29.875     & 1987-01-02 & NA        \\\\\n",
       "\t chic       & 33.0       & 27.375     & 1987-01-03 & NA        \\\\\n",
       "\t chic       & 29.0       & 28.625     & 1987-01-04 & NA        \\\\\n",
       "\t chic       & 32.0       & 28.875     & 1987-01-05 & NA        \\\\\n",
       "\t chic       & 40.0       & 35.125     & 1987-01-06 & NA        \\\\\n",
       "\\end{tabular}\n"
      ],
      "text/plain": [
       "  city tmpd dptp   date       pm25tmean2\n",
       "1 chic 31.5 31.500 1987-01-01 NA        \n",
       "2 chic 33.0 29.875 1987-01-02 NA        \n",
       "3 chic 33.0 27.375 1987-01-03 NA        \n",
       "4 chic 29.0 28.625 1987-01-04 NA        \n",
       "5 chic 32.0 28.875 1987-01-05 NA        \n",
       "6 chic 40.0 35.125 1987-01-06 NA        "
      ]
     },
     "metadata": {},
     "output_type": "display_data"
    }
   ],
   "source": [
    "chis=select(chi,1:5)\n",
    "head(chis)"
   ]
  },
  {
   "cell_type": "code",
   "execution_count": 32,
   "metadata": {
    "collapsed": false
   },
   "outputs": [
    {
     "data": {
      "text/html": [
       "<table>\n",
       "<thead><tr><th scope=col>city</th><th scope=col>pm25tmean2</th><th scope=col>pm10tmean2</th><th scope=col>o3tmean2</th><th scope=col>no2tmean2</th></tr></thead>\n",
       "<tbody>\n",
       "\t<tr><td>chic    </td><td>NA      </td><td>34.00000</td><td>4.250000</td><td>19.98810</td></tr>\n",
       "\t<tr><td>chic    </td><td>NA      </td><td>      NA</td><td>3.304348</td><td>23.19099</td></tr>\n",
       "\t<tr><td>chic    </td><td>NA      </td><td>34.16667</td><td>3.333333</td><td>23.81548</td></tr>\n",
       "\t<tr><td>chic    </td><td>NA      </td><td>47.00000</td><td>4.375000</td><td>30.43452</td></tr>\n",
       "\t<tr><td>chic    </td><td>NA      </td><td>      NA</td><td>4.750000</td><td>30.33333</td></tr>\n",
       "\t<tr><td>chic    </td><td>NA      </td><td>48.00000</td><td>5.833333</td><td>25.77233</td></tr>\n",
       "</tbody>\n",
       "</table>\n"
      ],
      "text/latex": [
       "\\begin{tabular}{r|lllll}\n",
       " city & pm25tmean2 & pm10tmean2 & o3tmean2 & no2tmean2\\\\\n",
       "\\hline\n",
       "\t chic     & NA       & 34.00000 & 4.250000 & 19.98810\\\\\n",
       "\t chic     & NA       &       NA & 3.304348 & 23.19099\\\\\n",
       "\t chic     & NA       & 34.16667 & 3.333333 & 23.81548\\\\\n",
       "\t chic     & NA       & 47.00000 & 4.375000 & 30.43452\\\\\n",
       "\t chic     & NA       &       NA & 4.750000 & 30.33333\\\\\n",
       "\t chic     & NA       & 48.00000 & 5.833333 & 25.77233\\\\\n",
       "\\end{tabular}\n"
      ],
      "text/plain": [
       "  city pm25tmean2 pm10tmean2 o3tmean2 no2tmean2\n",
       "1 chic NA         34.00000   4.250000 19.98810 \n",
       "2 chic NA               NA   3.304348 23.19099 \n",
       "3 chic NA         34.16667   3.333333 23.81548 \n",
       "4 chic NA         47.00000   4.375000 30.43452 \n",
       "5 chic NA               NA   4.750000 30.33333 \n",
       "6 chic NA         48.00000   5.833333 25.77233 "
      ]
     },
     "metadata": {},
     "output_type": "display_data"
    }
   ],
   "source": [
    "chis=select(chi,-(tmpd:date))\n",
    "head(chis)"
   ]
  },
  {
   "cell_type": "code",
   "execution_count": 33,
   "metadata": {
    "collapsed": false
   },
   "outputs": [
    {
     "data": {
      "text/html": [
       "<table>\n",
       "<thead><tr><th scope=col>pm25tmean2</th><th scope=col>pm10tmean2</th><th scope=col>o3tmean2</th><th scope=col>no2tmean2</th></tr></thead>\n",
       "<tbody>\n",
       "\t<tr><td>NA      </td><td>34.00000</td><td>4.250000</td><td>19.98810</td></tr>\n",
       "\t<tr><td>NA      </td><td>      NA</td><td>3.304348</td><td>23.19099</td></tr>\n",
       "\t<tr><td>NA      </td><td>34.16667</td><td>3.333333</td><td>23.81548</td></tr>\n",
       "\t<tr><td>NA      </td><td>47.00000</td><td>4.375000</td><td>30.43452</td></tr>\n",
       "\t<tr><td>NA      </td><td>      NA</td><td>4.750000</td><td>30.33333</td></tr>\n",
       "\t<tr><td>NA      </td><td>48.00000</td><td>5.833333</td><td>25.77233</td></tr>\n",
       "</tbody>\n",
       "</table>\n"
      ],
      "text/latex": [
       "\\begin{tabular}{r|llll}\n",
       " pm25tmean2 & pm10tmean2 & o3tmean2 & no2tmean2\\\\\n",
       "\\hline\n",
       "\t NA       & 34.00000 & 4.250000 & 19.98810\\\\\n",
       "\t NA       &       NA & 3.304348 & 23.19099\\\\\n",
       "\t NA       & 34.16667 & 3.333333 & 23.81548\\\\\n",
       "\t NA       & 47.00000 & 4.375000 & 30.43452\\\\\n",
       "\t NA       &       NA & 4.750000 & 30.33333\\\\\n",
       "\t NA       & 48.00000 & 5.833333 & 25.77233\\\\\n",
       "\\end{tabular}\n"
      ],
      "text/plain": [
       "  pm25tmean2 pm10tmean2 o3tmean2 no2tmean2\n",
       "1 NA         34.00000   4.250000 19.98810 \n",
       "2 NA               NA   3.304348 23.19099 \n",
       "3 NA         34.16667   3.333333 23.81548 \n",
       "4 NA         47.00000   4.375000 30.43452 \n",
       "5 NA               NA   4.750000 30.33333 \n",
       "6 NA         48.00000   5.833333 25.77233 "
      ]
     },
     "metadata": {},
     "output_type": "display_data"
    }
   ],
   "source": [
    "chis=select(chi,ends_with(\"2\"))\n",
    "head(chis)"
   ]
  },
  {
   "cell_type": "code",
   "execution_count": 34,
   "metadata": {
    "collapsed": false,
    "scrolled": true
   },
   "outputs": [
    {
     "data": {
      "text/html": [
       "<table>\n",
       "<thead><tr><th scope=col>city</th><th scope=col>tmpd</th><th scope=col>pm25tmean2</th><th scope=col>pm10tmean2</th><th scope=col>o3tmean2</th><th scope=col>no2tmean2</th></tr></thead>\n",
       "<tbody>\n",
       "\t<tr><td>chic    </td><td>31.5    </td><td>NA      </td><td>34.00000</td><td>4.250000</td><td>19.98810</td></tr>\n",
       "\t<tr><td>chic    </td><td>33.0    </td><td>NA      </td><td>      NA</td><td>3.304348</td><td>23.19099</td></tr>\n",
       "\t<tr><td>chic    </td><td>33.0    </td><td>NA      </td><td>34.16667</td><td>3.333333</td><td>23.81548</td></tr>\n",
       "\t<tr><td>chic    </td><td>29.0    </td><td>NA      </td><td>47.00000</td><td>4.375000</td><td>30.43452</td></tr>\n",
       "\t<tr><td>chic    </td><td>32.0    </td><td>NA      </td><td>      NA</td><td>4.750000</td><td>30.33333</td></tr>\n",
       "\t<tr><td>chic    </td><td>40.0    </td><td>NA      </td><td>48.00000</td><td>5.833333</td><td>25.77233</td></tr>\n",
       "</tbody>\n",
       "</table>\n"
      ],
      "text/latex": [
       "\\begin{tabular}{r|llllll}\n",
       " city & tmpd & pm25tmean2 & pm10tmean2 & o3tmean2 & no2tmean2\\\\\n",
       "\\hline\n",
       "\t chic     & 31.5     & NA       & 34.00000 & 4.250000 & 19.98810\\\\\n",
       "\t chic     & 33.0     & NA       &       NA & 3.304348 & 23.19099\\\\\n",
       "\t chic     & 33.0     & NA       & 34.16667 & 3.333333 & 23.81548\\\\\n",
       "\t chic     & 29.0     & NA       & 47.00000 & 4.375000 & 30.43452\\\\\n",
       "\t chic     & 32.0     & NA       &       NA & 4.750000 & 30.33333\\\\\n",
       "\t chic     & 40.0     & NA       & 48.00000 & 5.833333 & 25.77233\\\\\n",
       "\\end{tabular}\n"
      ],
      "text/plain": [
       "  city tmpd pm25tmean2 pm10tmean2 o3tmean2 no2tmean2\n",
       "1 chic 31.5 NA         34.00000   4.250000 19.98810 \n",
       "2 chic 33.0 NA               NA   3.304348 23.19099 \n",
       "3 chic 33.0 NA         34.16667   3.333333 23.81548 \n",
       "4 chic 29.0 NA         47.00000   4.375000 30.43452 \n",
       "5 chic 32.0 NA               NA   4.750000 30.33333 \n",
       "6 chic 40.0 NA         48.00000   5.833333 25.77233 "
      ]
     },
     "metadata": {},
     "output_type": "display_data"
    }
   ],
   "source": [
    "chis=select(chi,-starts_with(\"d\"))\n",
    "head(chis)"
   ]
  },
  {
   "cell_type": "markdown",
   "metadata": {},
   "source": [
    "## Filter"
   ]
  },
  {
   "cell_type": "code",
   "execution_count": 35,
   "metadata": {
    "collapsed": false
   },
   "outputs": [
    {
     "name": "stdout",
     "output_type": "stream",
     "text": [
      "[1] \"Before\"\n"
     ]
    },
    {
     "data": {
      "text/plain": [
       "   Min. 1st Qu.  Median    Mean 3rd Qu.    Max.    NA's \n",
       "   1.70    9.70   14.66   16.23   20.60   61.50    4447 "
      ]
     },
     "metadata": {},
     "output_type": "display_data"
    },
    {
     "name": "stdout",
     "output_type": "stream",
     "text": [
      "[1] \"After\"\n"
     ]
    },
    {
     "data": {
      "text/plain": [
       "   Min. 1st Qu.  Median    Mean 3rd Qu.    Max. \n",
       "  30.05   32.12   35.04   36.63   39.53   61.50 "
      ]
     },
     "metadata": {},
     "output_type": "display_data"
    }
   ],
   "source": [
    "chif=filter(chi,pm25tmean2>30)\n",
    "print(\"Before\")\n",
    "summary(chi$pm25tmean2)\n",
    "print(\"After\")\n",
    "summary(chif$pm25tmean2)"
   ]
  },
  {
   "cell_type": "code",
   "execution_count": 36,
   "metadata": {
    "collapsed": false
   },
   "outputs": [
    {
     "name": "stdout",
     "output_type": "stream",
     "text": [
      "[1] \"Before\"\n"
     ]
    },
    {
     "data": {
      "text/html": [
       "<ol class=list-inline>\n",
       "\t<li>6940</li>\n",
       "\t<li>8</li>\n",
       "</ol>\n"
      ],
      "text/latex": [
       "\\begin{enumerate*}\n",
       "\\item 6940\n",
       "\\item 8\n",
       "\\end{enumerate*}\n"
      ],
      "text/markdown": [
       "1. 6940\n",
       "2. 8\n",
       "\n",
       "\n"
      ],
      "text/plain": [
       "[1] 6940    8"
      ]
     },
     "metadata": {},
     "output_type": "display_data"
    },
    {
     "name": "stdout",
     "output_type": "stream",
     "text": [
      "[1] \"After\"\n"
     ]
    },
    {
     "data": {
      "text/html": [
       "<ol class=list-inline>\n",
       "\t<li>17</li>\n",
       "\t<li>8</li>\n",
       "</ol>\n"
      ],
      "text/latex": [
       "\\begin{enumerate*}\n",
       "\\item 17\n",
       "\\item 8\n",
       "\\end{enumerate*}\n"
      ],
      "text/markdown": [
       "1. 17\n",
       "2. 8\n",
       "\n",
       "\n"
      ],
      "text/plain": [
       "[1] 17  8"
      ]
     },
     "metadata": {},
     "output_type": "display_data"
    }
   ],
   "source": [
    "chif=filter(chi,pm25tmean2>30 & tmpd>80)\n",
    "print(\"Before\")\n",
    "dim(chi)\n",
    "print(\"After\")\n",
    "dim(chif)"
   ]
  },
  {
   "cell_type": "markdown",
   "metadata": {},
   "source": [
    "## Arrange"
   ]
  },
  {
   "cell_type": "code",
   "execution_count": 37,
   "metadata": {
    "collapsed": false
   },
   "outputs": [
    {
     "name": "stdout",
     "output_type": "stream",
     "text": [
      "[1] \"Before\"\n"
     ]
    },
    {
     "data": {
      "text/html": [
       "<table>\n",
       "<thead><tr><th scope=col>city</th><th scope=col>tmpd</th><th scope=col>dptp</th><th scope=col>date</th><th scope=col>pm25tmean2</th><th scope=col>pm10tmean2</th><th scope=col>o3tmean2</th><th scope=col>no2tmean2</th></tr></thead>\n",
       "<tbody>\n",
       "\t<tr><td>chic      </td><td>31.5      </td><td>31.500    </td><td>1987-01-01</td><td>NA        </td><td>34.00000  </td><td>4.250000  </td><td>19.98810  </td></tr>\n",
       "\t<tr><td>chic      </td><td>33.0      </td><td>29.875    </td><td>1987-01-02</td><td>NA        </td><td>      NA  </td><td>3.304348  </td><td>23.19099  </td></tr>\n",
       "\t<tr><td>chic      </td><td>33.0      </td><td>27.375    </td><td>1987-01-03</td><td>NA        </td><td>34.16667  </td><td>3.333333  </td><td>23.81548  </td></tr>\n",
       "\t<tr><td>chic      </td><td>29.0      </td><td>28.625    </td><td>1987-01-04</td><td>NA        </td><td>47.00000  </td><td>4.375000  </td><td>30.43452  </td></tr>\n",
       "\t<tr><td>chic      </td><td>32.0      </td><td>28.875    </td><td>1987-01-05</td><td>NA        </td><td>      NA  </td><td>4.750000  </td><td>30.33333  </td></tr>\n",
       "\t<tr><td>chic      </td><td>40.0      </td><td>35.125    </td><td>1987-01-06</td><td>NA        </td><td>48.00000  </td><td>5.833333  </td><td>25.77233  </td></tr>\n",
       "</tbody>\n",
       "</table>\n"
      ],
      "text/latex": [
       "\\begin{tabular}{r|llllllll}\n",
       " city & tmpd & dptp & date & pm25tmean2 & pm10tmean2 & o3tmean2 & no2tmean2\\\\\n",
       "\\hline\n",
       "\t chic       & 31.5       & 31.500     & 1987-01-01 & NA         & 34.00000   & 4.250000   & 19.98810  \\\\\n",
       "\t chic       & 33.0       & 29.875     & 1987-01-02 & NA         &       NA   & 3.304348   & 23.19099  \\\\\n",
       "\t chic       & 33.0       & 27.375     & 1987-01-03 & NA         & 34.16667   & 3.333333   & 23.81548  \\\\\n",
       "\t chic       & 29.0       & 28.625     & 1987-01-04 & NA         & 47.00000   & 4.375000   & 30.43452  \\\\\n",
       "\t chic       & 32.0       & 28.875     & 1987-01-05 & NA         &       NA   & 4.750000   & 30.33333  \\\\\n",
       "\t chic       & 40.0       & 35.125     & 1987-01-06 & NA         & 48.00000   & 5.833333   & 25.77233  \\\\\n",
       "\\end{tabular}\n"
      ],
      "text/plain": [
       "  city tmpd dptp   date       pm25tmean2 pm10tmean2 o3tmean2 no2tmean2\n",
       "1 chic 31.5 31.500 1987-01-01 NA         34.00000   4.250000 19.98810 \n",
       "2 chic 33.0 29.875 1987-01-02 NA               NA   3.304348 23.19099 \n",
       "3 chic 33.0 27.375 1987-01-03 NA         34.16667   3.333333 23.81548 \n",
       "4 chic 29.0 28.625 1987-01-04 NA         47.00000   4.375000 30.43452 \n",
       "5 chic 32.0 28.875 1987-01-05 NA               NA   4.750000 30.33333 \n",
       "6 chic 40.0 35.125 1987-01-06 NA         48.00000   5.833333 25.77233 "
      ]
     },
     "metadata": {},
     "output_type": "display_data"
    },
    {
     "data": {
      "text/html": [
       "<table>\n",
       "<thead><tr><th></th><th scope=col>city</th><th scope=col>tmpd</th><th scope=col>dptp</th><th scope=col>date</th><th scope=col>pm25tmean2</th><th scope=col>pm10tmean2</th><th scope=col>o3tmean2</th><th scope=col>no2tmean2</th></tr></thead>\n",
       "<tbody>\n",
       "\t<tr><th scope=row>6935</th><td>chic      </td><td>35        </td><td>29.6      </td><td>2005-12-26</td><td> 8.40000  </td><td> 8.5      </td><td>14.041667 </td><td>16.81944  </td></tr>\n",
       "\t<tr><th scope=row>6936</th><td>chic      </td><td>40        </td><td>33.6      </td><td>2005-12-27</td><td>23.56000  </td><td>27.0      </td><td> 4.468750 </td><td>23.50000  </td></tr>\n",
       "\t<tr><th scope=row>6937</th><td>chic      </td><td>37        </td><td>34.5      </td><td>2005-12-28</td><td>17.75000  </td><td>27.5      </td><td> 3.260417 </td><td>19.28563  </td></tr>\n",
       "\t<tr><th scope=row>6938</th><td>chic      </td><td>35        </td><td>29.4      </td><td>2005-12-29</td><td> 7.45000  </td><td>23.5      </td><td> 6.794837 </td><td>19.97222  </td></tr>\n",
       "\t<tr><th scope=row>6939</th><td>chic      </td><td>36        </td><td>31.0      </td><td>2005-12-30</td><td>15.05714  </td><td>19.2      </td><td> 3.034420 </td><td>22.80556  </td></tr>\n",
       "\t<tr><th scope=row>6940</th><td>chic      </td><td>35        </td><td>30.1      </td><td>2005-12-31</td><td>15.00000  </td><td>23.5      </td><td> 2.531250 </td><td>13.25000  </td></tr>\n",
       "</tbody>\n",
       "</table>\n"
      ],
      "text/latex": [
       "\\begin{tabular}{r|llllllll}\n",
       "  & city & tmpd & dptp & date & pm25tmean2 & pm10tmean2 & o3tmean2 & no2tmean2\\\\\n",
       "\\hline\n",
       "\t6935 & chic       & 35         & 29.6       & 2005-12-26 &  8.40000   &  8.5       & 14.041667  & 16.81944  \\\\\n",
       "\t6936 & chic       & 40         & 33.6       & 2005-12-27 & 23.56000   & 27.0       &  4.468750  & 23.50000  \\\\\n",
       "\t6937 & chic       & 37         & 34.5       & 2005-12-28 & 17.75000   & 27.5       &  3.260417  & 19.28563  \\\\\n",
       "\t6938 & chic       & 35         & 29.4       & 2005-12-29 &  7.45000   & 23.5       &  6.794837  & 19.97222  \\\\\n",
       "\t6939 & chic       & 36         & 31.0       & 2005-12-30 & 15.05714   & 19.2       &  3.034420  & 22.80556  \\\\\n",
       "\t6940 & chic       & 35         & 30.1       & 2005-12-31 & 15.00000   & 23.5       &  2.531250  & 13.25000  \\\\\n",
       "\\end{tabular}\n"
      ],
      "text/plain": [
       "     city tmpd dptp date       pm25tmean2 pm10tmean2 o3tmean2  no2tmean2\n",
       "6935 chic 35   29.6 2005-12-26  8.40000    8.5       14.041667 16.81944 \n",
       "6936 chic 40   33.6 2005-12-27 23.56000   27.0        4.468750 23.50000 \n",
       "6937 chic 37   34.5 2005-12-28 17.75000   27.5        3.260417 19.28563 \n",
       "6938 chic 35   29.4 2005-12-29  7.45000   23.5        6.794837 19.97222 \n",
       "6939 chic 36   31.0 2005-12-30 15.05714   19.2        3.034420 22.80556 \n",
       "6940 chic 35   30.1 2005-12-31 15.00000   23.5        2.531250 13.25000 "
      ]
     },
     "metadata": {},
     "output_type": "display_data"
    },
    {
     "name": "stdout",
     "output_type": "stream",
     "text": [
      "[1] \"After\"\n"
     ]
    },
    {
     "data": {
      "text/html": [
       "<table>\n",
       "<thead><tr><th scope=col>city</th><th scope=col>tmpd</th><th scope=col>dptp</th><th scope=col>date</th><th scope=col>pm25tmean2</th><th scope=col>pm10tmean2</th><th scope=col>o3tmean2</th><th scope=col>no2tmean2</th></tr></thead>\n",
       "<tbody>\n",
       "\t<tr><td>chic      </td><td>-16.0     </td><td>-25.625   </td><td>1994-01-18</td><td>NA        </td><td>27.00000  </td><td>14.656250 </td><td>22.10236  </td></tr>\n",
       "\t<tr><td>chic      </td><td>-12.0     </td><td>-18.875   </td><td>1996-02-03</td><td>NA        </td><td>25.61538  </td><td> 7.736111 </td><td>30.13542  </td></tr>\n",
       "\t<tr><td>chic      </td><td>-10.5     </td><td>-23.125   </td><td>1994-01-15</td><td>NA        </td><td>36.00000  </td><td>12.010417 </td><td>24.70139  </td></tr>\n",
       "\t<tr><td>chic      </td><td>-10.5     </td><td>-21.000   </td><td>1996-02-02</td><td>NA        </td><td>35.00000  </td><td> 9.555556 </td><td>31.47917  </td></tr>\n",
       "\t<tr><td>chic      </td><td> -8.0     </td><td> -2.375   </td><td>1994-01-19</td><td>NA        </td><td>24.50000  </td><td> 4.864583 </td><td>36.59796  </td></tr>\n",
       "\t<tr><td>chic      </td><td> -6.5     </td><td>-15.750   </td><td>1988-01-05</td><td>NA        </td><td>24.00000  </td><td>13.166667 </td><td>17.22083  </td></tr>\n",
       "</tbody>\n",
       "</table>\n"
      ],
      "text/latex": [
       "\\begin{tabular}{r|llllllll}\n",
       " city & tmpd & dptp & date & pm25tmean2 & pm10tmean2 & o3tmean2 & no2tmean2\\\\\n",
       "\\hline\n",
       "\t chic       & -16.0      & -25.625    & 1994-01-18 & NA         & 27.00000   & 14.656250  & 22.10236  \\\\\n",
       "\t chic       & -12.0      & -18.875    & 1996-02-03 & NA         & 25.61538   &  7.736111  & 30.13542  \\\\\n",
       "\t chic       & -10.5      & -23.125    & 1994-01-15 & NA         & 36.00000   & 12.010417  & 24.70139  \\\\\n",
       "\t chic       & -10.5      & -21.000    & 1996-02-02 & NA         & 35.00000   &  9.555556  & 31.47917  \\\\\n",
       "\t chic       &  -8.0      &  -2.375    & 1994-01-19 & NA         & 24.50000   &  4.864583  & 36.59796  \\\\\n",
       "\t chic       &  -6.5      & -15.750    & 1988-01-05 & NA         & 24.00000   & 13.166667  & 17.22083  \\\\\n",
       "\\end{tabular}\n"
      ],
      "text/plain": [
       "  city tmpd  dptp    date       pm25tmean2 pm10tmean2 o3tmean2  no2tmean2\n",
       "1 chic -16.0 -25.625 1994-01-18 NA         27.00000   14.656250 22.10236 \n",
       "2 chic -12.0 -18.875 1996-02-03 NA         25.61538    7.736111 30.13542 \n",
       "3 chic -10.5 -23.125 1994-01-15 NA         36.00000   12.010417 24.70139 \n",
       "4 chic -10.5 -21.000 1996-02-02 NA         35.00000    9.555556 31.47917 \n",
       "5 chic  -8.0  -2.375 1994-01-19 NA         24.50000    4.864583 36.59796 \n",
       "6 chic  -6.5 -15.750 1988-01-05 NA         24.00000   13.166667 17.22083 "
      ]
     },
     "metadata": {},
     "output_type": "display_data"
    },
    {
     "data": {
      "text/html": [
       "<table>\n",
       "<thead><tr><th></th><th scope=col>city</th><th scope=col>tmpd</th><th scope=col>dptp</th><th scope=col>date</th><th scope=col>pm25tmean2</th><th scope=col>pm10tmean2</th><th scope=col>o3tmean2</th><th scope=col>no2tmean2</th></tr></thead>\n",
       "<tbody>\n",
       "\t<tr><th scope=row>6935</th><td>chic      </td><td>89.5      </td><td>70.375    </td><td>1988-08-02</td><td>     NA   </td><td>67.0      </td><td>49.849487 </td><td>25.91973  </td></tr>\n",
       "\t<tr><th scope=row>6936</th><td>chic      </td><td>90.0      </td><td>77.100    </td><td>1999-07-30</td><td>     NA   </td><td>54.0      </td><td>34.170652 </td><td>27.47977  </td></tr>\n",
       "\t<tr><th scope=row>6937</th><td>chic      </td><td>90.0      </td><td>70.900    </td><td>2005-07-24</td><td>22.0500   </td><td>44.0      </td><td>47.604167 </td><td>11.96354  </td></tr>\n",
       "\t<tr><th scope=row>6938</th><td>chic      </td><td>91.5      </td><td>75.625    </td><td>1995-07-14</td><td>     NA   </td><td>54.5      </td><td>52.003972 </td><td>24.77355  </td></tr>\n",
       "\t<tr><th scope=row>6939</th><td>chic      </td><td>92.0      </td><td>76.375    </td><td>1995-07-13</td><td>     NA   </td><td>92.5      </td><td>58.549524 </td><td>27.31775  </td></tr>\n",
       "\t<tr><th scope=row>6940</th><td>chic      </td><td>  NA      </td><td>22.900    </td><td>2003-03-01</td><td>47.7375   </td><td>47.5      </td><td> 9.416667 </td><td>37.44444  </td></tr>\n",
       "</tbody>\n",
       "</table>\n"
      ],
      "text/latex": [
       "\\begin{tabular}{r|llllllll}\n",
       "  & city & tmpd & dptp & date & pm25tmean2 & pm10tmean2 & o3tmean2 & no2tmean2\\\\\n",
       "\\hline\n",
       "\t6935 & chic       & 89.5       & 70.375     & 1988-08-02 &      NA    & 67.0       & 49.849487  & 25.91973  \\\\\n",
       "\t6936 & chic       & 90.0       & 77.100     & 1999-07-30 &      NA    & 54.0       & 34.170652  & 27.47977  \\\\\n",
       "\t6937 & chic       & 90.0       & 70.900     & 2005-07-24 & 22.0500    & 44.0       & 47.604167  & 11.96354  \\\\\n",
       "\t6938 & chic       & 91.5       & 75.625     & 1995-07-14 &      NA    & 54.5       & 52.003972  & 24.77355  \\\\\n",
       "\t6939 & chic       & 92.0       & 76.375     & 1995-07-13 &      NA    & 92.5       & 58.549524  & 27.31775  \\\\\n",
       "\t6940 & chic       &   NA       & 22.900     & 2003-03-01 & 47.7375    & 47.5       &  9.416667  & 37.44444  \\\\\n",
       "\\end{tabular}\n"
      ],
      "text/plain": [
       "     city tmpd dptp   date       pm25tmean2 pm10tmean2 o3tmean2  no2tmean2\n",
       "6935 chic 89.5 70.375 1988-08-02      NA    67.0       49.849487 25.91973 \n",
       "6936 chic 90.0 77.100 1999-07-30      NA    54.0       34.170652 27.47977 \n",
       "6937 chic 90.0 70.900 2005-07-24 22.0500    44.0       47.604167 11.96354 \n",
       "6938 chic 91.5 75.625 1995-07-14      NA    54.5       52.003972 24.77355 \n",
       "6939 chic 92.0 76.375 1995-07-13      NA    92.5       58.549524 27.31775 \n",
       "6940 chic   NA 22.900 2003-03-01 47.7375    47.5        9.416667 37.44444 "
      ]
     },
     "metadata": {},
     "output_type": "display_data"
    }
   ],
   "source": [
    "chia=arrange(chi,tmpd)\n",
    "print(\"Before\")\n",
    "head(chi)\n",
    "tail(chi)\n",
    "print(\"After\")\n",
    "head(chia)\n",
    "tail(chia)"
   ]
  },
  {
   "cell_type": "code",
   "execution_count": 38,
   "metadata": {
    "collapsed": false
   },
   "outputs": [
    {
     "data": {
      "text/html": [
       "<table>\n",
       "<thead><tr><th scope=col>city</th><th scope=col>tmpd</th><th scope=col>dptp</th><th scope=col>date</th><th scope=col>pm25tmean2</th><th scope=col>pm10tmean2</th><th scope=col>o3tmean2</th><th scope=col>no2tmean2</th></tr></thead>\n",
       "<tbody>\n",
       "\t<tr><td>chic      </td><td>31.5      </td><td>31.500    </td><td>1987-01-01</td><td>NA        </td><td>34.00000  </td><td>4.250000  </td><td>19.98810  </td></tr>\n",
       "\t<tr><td>chic      </td><td>33.0      </td><td>29.875    </td><td>1987-01-02</td><td>NA        </td><td>      NA  </td><td>3.304348  </td><td>23.19099  </td></tr>\n",
       "\t<tr><td>chic      </td><td>33.0      </td><td>27.375    </td><td>1987-01-03</td><td>NA        </td><td>34.16667  </td><td>3.333333  </td><td>23.81548  </td></tr>\n",
       "\t<tr><td>chic      </td><td>29.0      </td><td>28.625    </td><td>1987-01-04</td><td>NA        </td><td>47.00000  </td><td>4.375000  </td><td>30.43452  </td></tr>\n",
       "\t<tr><td>chic      </td><td>32.0      </td><td>28.875    </td><td>1987-01-05</td><td>NA        </td><td>      NA  </td><td>4.750000  </td><td>30.33333  </td></tr>\n",
       "\t<tr><td>chic      </td><td>40.0      </td><td>35.125    </td><td>1987-01-06</td><td>NA        </td><td>48.00000  </td><td>5.833333  </td><td>25.77233  </td></tr>\n",
       "</tbody>\n",
       "</table>\n"
      ],
      "text/latex": [
       "\\begin{tabular}{r|llllllll}\n",
       " city & tmpd & dptp & date & pm25tmean2 & pm10tmean2 & o3tmean2 & no2tmean2\\\\\n",
       "\\hline\n",
       "\t chic       & 31.5       & 31.500     & 1987-01-01 & NA         & 34.00000   & 4.250000   & 19.98810  \\\\\n",
       "\t chic       & 33.0       & 29.875     & 1987-01-02 & NA         &       NA   & 3.304348   & 23.19099  \\\\\n",
       "\t chic       & 33.0       & 27.375     & 1987-01-03 & NA         & 34.16667   & 3.333333   & 23.81548  \\\\\n",
       "\t chic       & 29.0       & 28.625     & 1987-01-04 & NA         & 47.00000   & 4.375000   & 30.43452  \\\\\n",
       "\t chic       & 32.0       & 28.875     & 1987-01-05 & NA         &       NA   & 4.750000   & 30.33333  \\\\\n",
       "\t chic       & 40.0       & 35.125     & 1987-01-06 & NA         & 48.00000   & 5.833333   & 25.77233  \\\\\n",
       "\\end{tabular}\n"
      ],
      "text/plain": [
       "  city tmpd dptp   date       pm25tmean2 pm10tmean2 o3tmean2 no2tmean2\n",
       "1 chic 31.5 31.500 1987-01-01 NA         34.00000   4.250000 19.98810 \n",
       "2 chic 33.0 29.875 1987-01-02 NA               NA   3.304348 23.19099 \n",
       "3 chic 33.0 27.375 1987-01-03 NA         34.16667   3.333333 23.81548 \n",
       "4 chic 29.0 28.625 1987-01-04 NA         47.00000   4.375000 30.43452 \n",
       "5 chic 32.0 28.875 1987-01-05 NA               NA   4.750000 30.33333 \n",
       "6 chic 40.0 35.125 1987-01-06 NA         48.00000   5.833333 25.77233 "
      ]
     },
     "metadata": {},
     "output_type": "display_data"
    },
    {
     "data": {
      "text/html": [
       "<table>\n",
       "<thead><tr><th scope=col>city</th><th scope=col>tmpd</th><th scope=col>dptp</th><th scope=col>date</th><th scope=col>pm25tmean2</th><th scope=col>pm10tmean2</th><th scope=col>o3tmean2</th><th scope=col>no2tmean2</th></tr></thead>\n",
       "<tbody>\n",
       "\t<tr><td>chic      </td><td>35        </td><td>30.1      </td><td>2005-12-31</td><td>15.00000  </td><td>23.5      </td><td> 2.531250 </td><td>13.25000  </td></tr>\n",
       "\t<tr><td>chic      </td><td>36        </td><td>31.0      </td><td>2005-12-30</td><td>15.05714  </td><td>19.2      </td><td> 3.034420 </td><td>22.80556  </td></tr>\n",
       "\t<tr><td>chic      </td><td>35        </td><td>29.4      </td><td>2005-12-29</td><td> 7.45000  </td><td>23.5      </td><td> 6.794837 </td><td>19.97222  </td></tr>\n",
       "\t<tr><td>chic      </td><td>37        </td><td>34.5      </td><td>2005-12-28</td><td>17.75000  </td><td>27.5      </td><td> 3.260417 </td><td>19.28563  </td></tr>\n",
       "\t<tr><td>chic      </td><td>40        </td><td>33.6      </td><td>2005-12-27</td><td>23.56000  </td><td>27.0      </td><td> 4.468750 </td><td>23.50000  </td></tr>\n",
       "\t<tr><td>chic      </td><td>35        </td><td>29.6      </td><td>2005-12-26</td><td> 8.40000  </td><td> 8.5      </td><td>14.041667 </td><td>16.81944  </td></tr>\n",
       "</tbody>\n",
       "</table>\n"
      ],
      "text/latex": [
       "\\begin{tabular}{r|llllllll}\n",
       " city & tmpd & dptp & date & pm25tmean2 & pm10tmean2 & o3tmean2 & no2tmean2\\\\\n",
       "\\hline\n",
       "\t chic       & 35         & 30.1       & 2005-12-31 & 15.00000   & 23.5       &  2.531250  & 13.25000  \\\\\n",
       "\t chic       & 36         & 31.0       & 2005-12-30 & 15.05714   & 19.2       &  3.034420  & 22.80556  \\\\\n",
       "\t chic       & 35         & 29.4       & 2005-12-29 &  7.45000   & 23.5       &  6.794837  & 19.97222  \\\\\n",
       "\t chic       & 37         & 34.5       & 2005-12-28 & 17.75000   & 27.5       &  3.260417  & 19.28563  \\\\\n",
       "\t chic       & 40         & 33.6       & 2005-12-27 & 23.56000   & 27.0       &  4.468750  & 23.50000  \\\\\n",
       "\t chic       & 35         & 29.6       & 2005-12-26 &  8.40000   &  8.5       & 14.041667  & 16.81944  \\\\\n",
       "\\end{tabular}\n"
      ],
      "text/plain": [
       "  city tmpd dptp date       pm25tmean2 pm10tmean2 o3tmean2  no2tmean2\n",
       "1 chic 35   30.1 2005-12-31 15.00000   23.5        2.531250 13.25000 \n",
       "2 chic 36   31.0 2005-12-30 15.05714   19.2        3.034420 22.80556 \n",
       "3 chic 35   29.4 2005-12-29  7.45000   23.5        6.794837 19.97222 \n",
       "4 chic 37   34.5 2005-12-28 17.75000   27.5        3.260417 19.28563 \n",
       "5 chic 40   33.6 2005-12-27 23.56000   27.0        4.468750 23.50000 \n",
       "6 chic 35   29.6 2005-12-26  8.40000    8.5       14.041667 16.81944 "
      ]
     },
     "metadata": {},
     "output_type": "display_data"
    }
   ],
   "source": [
    "chia=arrange(chi,desc(date))\n",
    "head(chi)\n",
    "head(chia)"
   ]
  },
  {
   "cell_type": "markdown",
   "metadata": {},
   "source": [
    "## Rename"
   ]
  },
  {
   "cell_type": "code",
   "execution_count": 39,
   "metadata": {
    "collapsed": false
   },
   "outputs": [
    {
     "data": {
      "text/html": [
       "<table>\n",
       "<thead><tr><th scope=col>city</th><th scope=col>tmpd</th><th scope=col>dptp</th><th scope=col>date</th><th scope=col>pm25tmean2</th><th scope=col>pm10tmean2</th><th scope=col>o3tmean2</th><th scope=col>no2tmean2</th></tr></thead>\n",
       "<tbody>\n",
       "\t<tr><td>chic      </td><td>31.5      </td><td>31.500    </td><td>1987-01-01</td><td>NA        </td><td>34.00000  </td><td>4.250000  </td><td>19.98810  </td></tr>\n",
       "\t<tr><td>chic      </td><td>33.0      </td><td>29.875    </td><td>1987-01-02</td><td>NA        </td><td>      NA  </td><td>3.304348  </td><td>23.19099  </td></tr>\n",
       "\t<tr><td>chic      </td><td>33.0      </td><td>27.375    </td><td>1987-01-03</td><td>NA        </td><td>34.16667  </td><td>3.333333  </td><td>23.81548  </td></tr>\n",
       "\t<tr><td>chic      </td><td>29.0      </td><td>28.625    </td><td>1987-01-04</td><td>NA        </td><td>47.00000  </td><td>4.375000  </td><td>30.43452  </td></tr>\n",
       "\t<tr><td>chic      </td><td>32.0      </td><td>28.875    </td><td>1987-01-05</td><td>NA        </td><td>      NA  </td><td>4.750000  </td><td>30.33333  </td></tr>\n",
       "\t<tr><td>chic      </td><td>40.0      </td><td>35.125    </td><td>1987-01-06</td><td>NA        </td><td>48.00000  </td><td>5.833333  </td><td>25.77233  </td></tr>\n",
       "</tbody>\n",
       "</table>\n"
      ],
      "text/latex": [
       "\\begin{tabular}{r|llllllll}\n",
       " city & tmpd & dptp & date & pm25tmean2 & pm10tmean2 & o3tmean2 & no2tmean2\\\\\n",
       "\\hline\n",
       "\t chic       & 31.5       & 31.500     & 1987-01-01 & NA         & 34.00000   & 4.250000   & 19.98810  \\\\\n",
       "\t chic       & 33.0       & 29.875     & 1987-01-02 & NA         &       NA   & 3.304348   & 23.19099  \\\\\n",
       "\t chic       & 33.0       & 27.375     & 1987-01-03 & NA         & 34.16667   & 3.333333   & 23.81548  \\\\\n",
       "\t chic       & 29.0       & 28.625     & 1987-01-04 & NA         & 47.00000   & 4.375000   & 30.43452  \\\\\n",
       "\t chic       & 32.0       & 28.875     & 1987-01-05 & NA         &       NA   & 4.750000   & 30.33333  \\\\\n",
       "\t chic       & 40.0       & 35.125     & 1987-01-06 & NA         & 48.00000   & 5.833333   & 25.77233  \\\\\n",
       "\\end{tabular}\n"
      ],
      "text/plain": [
       "  city tmpd dptp   date       pm25tmean2 pm10tmean2 o3tmean2 no2tmean2\n",
       "1 chic 31.5 31.500 1987-01-01 NA         34.00000   4.250000 19.98810 \n",
       "2 chic 33.0 29.875 1987-01-02 NA               NA   3.304348 23.19099 \n",
       "3 chic 33.0 27.375 1987-01-03 NA         34.16667   3.333333 23.81548 \n",
       "4 chic 29.0 28.625 1987-01-04 NA         47.00000   4.375000 30.43452 \n",
       "5 chic 32.0 28.875 1987-01-05 NA               NA   4.750000 30.33333 \n",
       "6 chic 40.0 35.125 1987-01-06 NA         48.00000   5.833333 25.77233 "
      ]
     },
     "metadata": {},
     "output_type": "display_data"
    },
    {
     "data": {
      "text/html": [
       "<table>\n",
       "<thead><tr><th scope=col>city</th><th scope=col>temp</th><th scope=col>dew</th><th scope=col>date</th><th scope=col>pm25</th><th scope=col>pm10tmean2</th><th scope=col>o3tmean2</th><th scope=col>no2tmean2</th></tr></thead>\n",
       "<tbody>\n",
       "\t<tr><td>chic      </td><td>31.5      </td><td>31.500    </td><td>1987-01-01</td><td>NA        </td><td>34.00000  </td><td>4.250000  </td><td>19.98810  </td></tr>\n",
       "\t<tr><td>chic      </td><td>33.0      </td><td>29.875    </td><td>1987-01-02</td><td>NA        </td><td>      NA  </td><td>3.304348  </td><td>23.19099  </td></tr>\n",
       "\t<tr><td>chic      </td><td>33.0      </td><td>27.375    </td><td>1987-01-03</td><td>NA        </td><td>34.16667  </td><td>3.333333  </td><td>23.81548  </td></tr>\n",
       "\t<tr><td>chic      </td><td>29.0      </td><td>28.625    </td><td>1987-01-04</td><td>NA        </td><td>47.00000  </td><td>4.375000  </td><td>30.43452  </td></tr>\n",
       "\t<tr><td>chic      </td><td>32.0      </td><td>28.875    </td><td>1987-01-05</td><td>NA        </td><td>      NA  </td><td>4.750000  </td><td>30.33333  </td></tr>\n",
       "\t<tr><td>chic      </td><td>40.0      </td><td>35.125    </td><td>1987-01-06</td><td>NA        </td><td>48.00000  </td><td>5.833333  </td><td>25.77233  </td></tr>\n",
       "</tbody>\n",
       "</table>\n"
      ],
      "text/latex": [
       "\\begin{tabular}{r|llllllll}\n",
       " city & temp & dew & date & pm25 & pm10tmean2 & o3tmean2 & no2tmean2\\\\\n",
       "\\hline\n",
       "\t chic       & 31.5       & 31.500     & 1987-01-01 & NA         & 34.00000   & 4.250000   & 19.98810  \\\\\n",
       "\t chic       & 33.0       & 29.875     & 1987-01-02 & NA         &       NA   & 3.304348   & 23.19099  \\\\\n",
       "\t chic       & 33.0       & 27.375     & 1987-01-03 & NA         & 34.16667   & 3.333333   & 23.81548  \\\\\n",
       "\t chic       & 29.0       & 28.625     & 1987-01-04 & NA         & 47.00000   & 4.375000   & 30.43452  \\\\\n",
       "\t chic       & 32.0       & 28.875     & 1987-01-05 & NA         &       NA   & 4.750000   & 30.33333  \\\\\n",
       "\t chic       & 40.0       & 35.125     & 1987-01-06 & NA         & 48.00000   & 5.833333   & 25.77233  \\\\\n",
       "\\end{tabular}\n"
      ],
      "text/plain": [
       "  city temp dew    date       pm25 pm10tmean2 o3tmean2 no2tmean2\n",
       "1 chic 31.5 31.500 1987-01-01 NA   34.00000   4.250000 19.98810 \n",
       "2 chic 33.0 29.875 1987-01-02 NA         NA   3.304348 23.19099 \n",
       "3 chic 33.0 27.375 1987-01-03 NA   34.16667   3.333333 23.81548 \n",
       "4 chic 29.0 28.625 1987-01-04 NA   47.00000   4.375000 30.43452 \n",
       "5 chic 32.0 28.875 1987-01-05 NA         NA   4.750000 30.33333 \n",
       "6 chic 40.0 35.125 1987-01-06 NA   48.00000   5.833333 25.77233 "
      ]
     },
     "metadata": {},
     "output_type": "display_data"
    }
   ],
   "source": [
    "chir=rename(chi,dew=dptp,temp=tmpd,pm25=pm25tmean2)\n",
    "head(chi)\n",
    "head(chir)"
   ]
  },
  {
   "cell_type": "markdown",
   "metadata": {},
   "source": [
    "## Mutate"
   ]
  },
  {
   "cell_type": "code",
   "execution_count": 40,
   "metadata": {
    "collapsed": false
   },
   "outputs": [
    {
     "data": {
      "text/html": [
       "<table>\n",
       "<thead><tr><th></th><th scope=col>city</th><th scope=col>temp</th><th scope=col>dew</th><th scope=col>date</th><th scope=col>pm25</th><th scope=col>pm10tmean2</th><th scope=col>o3tmean2</th><th scope=col>no2tmean2</th></tr></thead>\n",
       "<tbody>\n",
       "\t<tr><th scope=row>6935</th><td>chic      </td><td>35        </td><td>29.6      </td><td>2005-12-26</td><td> 8.40000  </td><td> 8.5      </td><td>14.041667 </td><td>16.81944  </td></tr>\n",
       "\t<tr><th scope=row>6936</th><td>chic      </td><td>40        </td><td>33.6      </td><td>2005-12-27</td><td>23.56000  </td><td>27.0      </td><td> 4.468750 </td><td>23.50000  </td></tr>\n",
       "\t<tr><th scope=row>6937</th><td>chic      </td><td>37        </td><td>34.5      </td><td>2005-12-28</td><td>17.75000  </td><td>27.5      </td><td> 3.260417 </td><td>19.28563  </td></tr>\n",
       "\t<tr><th scope=row>6938</th><td>chic      </td><td>35        </td><td>29.4      </td><td>2005-12-29</td><td> 7.45000  </td><td>23.5      </td><td> 6.794837 </td><td>19.97222  </td></tr>\n",
       "\t<tr><th scope=row>6939</th><td>chic      </td><td>36        </td><td>31.0      </td><td>2005-12-30</td><td>15.05714  </td><td>19.2      </td><td> 3.034420 </td><td>22.80556  </td></tr>\n",
       "\t<tr><th scope=row>6940</th><td>chic      </td><td>35        </td><td>30.1      </td><td>2005-12-31</td><td>15.00000  </td><td>23.5      </td><td> 2.531250 </td><td>13.25000  </td></tr>\n",
       "</tbody>\n",
       "</table>\n"
      ],
      "text/latex": [
       "\\begin{tabular}{r|llllllll}\n",
       "  & city & temp & dew & date & pm25 & pm10tmean2 & o3tmean2 & no2tmean2\\\\\n",
       "\\hline\n",
       "\t6935 & chic       & 35         & 29.6       & 2005-12-26 &  8.40000   &  8.5       & 14.041667  & 16.81944  \\\\\n",
       "\t6936 & chic       & 40         & 33.6       & 2005-12-27 & 23.56000   & 27.0       &  4.468750  & 23.50000  \\\\\n",
       "\t6937 & chic       & 37         & 34.5       & 2005-12-28 & 17.75000   & 27.5       &  3.260417  & 19.28563  \\\\\n",
       "\t6938 & chic       & 35         & 29.4       & 2005-12-29 &  7.45000   & 23.5       &  6.794837  & 19.97222  \\\\\n",
       "\t6939 & chic       & 36         & 31.0       & 2005-12-30 & 15.05714   & 19.2       &  3.034420  & 22.80556  \\\\\n",
       "\t6940 & chic       & 35         & 30.1       & 2005-12-31 & 15.00000   & 23.5       &  2.531250  & 13.25000  \\\\\n",
       "\\end{tabular}\n"
      ],
      "text/plain": [
       "     city temp dew  date       pm25     pm10tmean2 o3tmean2  no2tmean2\n",
       "6935 chic 35   29.6 2005-12-26  8.40000  8.5       14.041667 16.81944 \n",
       "6936 chic 40   33.6 2005-12-27 23.56000 27.0        4.468750 23.50000 \n",
       "6937 chic 37   34.5 2005-12-28 17.75000 27.5        3.260417 19.28563 \n",
       "6938 chic 35   29.4 2005-12-29  7.45000 23.5        6.794837 19.97222 \n",
       "6939 chic 36   31.0 2005-12-30 15.05714 19.2        3.034420 22.80556 \n",
       "6940 chic 35   30.1 2005-12-31 15.00000 23.5        2.531250 13.25000 "
      ]
     },
     "metadata": {},
     "output_type": "display_data"
    },
    {
     "data": {
      "text/html": [
       "<table>\n",
       "<thead><tr><th></th><th scope=col>city</th><th scope=col>temp</th><th scope=col>dew</th><th scope=col>date</th><th scope=col>pm25</th><th scope=col>pm10tmean2</th><th scope=col>o3tmean2</th><th scope=col>no2tmean2</th><th scope=col>pmdev</th></tr></thead>\n",
       "<tbody>\n",
       "\t<tr><th scope=row>6935</th><td>chic      </td><td>35        </td><td>29.6      </td><td>2005-12-26</td><td> 8.40000  </td><td> 8.5      </td><td>14.041667 </td><td>16.81944  </td><td>-7.830958 </td></tr>\n",
       "\t<tr><th scope=row>6936</th><td>chic      </td><td>40        </td><td>33.6      </td><td>2005-12-27</td><td>23.56000  </td><td>27.0      </td><td> 4.468750 </td><td>23.50000  </td><td> 7.329042 </td></tr>\n",
       "\t<tr><th scope=row>6937</th><td>chic      </td><td>37        </td><td>34.5      </td><td>2005-12-28</td><td>17.75000  </td><td>27.5      </td><td> 3.260417 </td><td>19.28563  </td><td> 1.519042 </td></tr>\n",
       "\t<tr><th scope=row>6938</th><td>chic      </td><td>35        </td><td>29.4      </td><td>2005-12-29</td><td> 7.45000  </td><td>23.5      </td><td> 6.794837 </td><td>19.97222  </td><td>-8.780958 </td></tr>\n",
       "\t<tr><th scope=row>6939</th><td>chic      </td><td>36        </td><td>31.0      </td><td>2005-12-30</td><td>15.05714  </td><td>19.2      </td><td> 3.034420 </td><td>22.80556  </td><td>-1.173815 </td></tr>\n",
       "\t<tr><th scope=row>6940</th><td>chic      </td><td>35        </td><td>30.1      </td><td>2005-12-31</td><td>15.00000  </td><td>23.5      </td><td> 2.531250 </td><td>13.25000  </td><td>-1.230958 </td></tr>\n",
       "</tbody>\n",
       "</table>\n"
      ],
      "text/latex": [
       "\\begin{tabular}{r|lllllllll}\n",
       "  & city & temp & dew & date & pm25 & pm10tmean2 & o3tmean2 & no2tmean2 & pmdev\\\\\n",
       "\\hline\n",
       "\t6935 & chic       & 35         & 29.6       & 2005-12-26 &  8.40000   &  8.5       & 14.041667  & 16.81944   & -7.830958 \\\\\n",
       "\t6936 & chic       & 40         & 33.6       & 2005-12-27 & 23.56000   & 27.0       &  4.468750  & 23.50000   &  7.329042 \\\\\n",
       "\t6937 & chic       & 37         & 34.5       & 2005-12-28 & 17.75000   & 27.5       &  3.260417  & 19.28563   &  1.519042 \\\\\n",
       "\t6938 & chic       & 35         & 29.4       & 2005-12-29 &  7.45000   & 23.5       &  6.794837  & 19.97222   & -8.780958 \\\\\n",
       "\t6939 & chic       & 36         & 31.0       & 2005-12-30 & 15.05714   & 19.2       &  3.034420  & 22.80556   & -1.173815 \\\\\n",
       "\t6940 & chic       & 35         & 30.1       & 2005-12-31 & 15.00000   & 23.5       &  2.531250  & 13.25000   & -1.230958 \\\\\n",
       "\\end{tabular}\n"
      ],
      "text/plain": [
       "     city temp dew  date       pm25     pm10tmean2 o3tmean2  no2tmean2\n",
       "6935 chic 35   29.6 2005-12-26  8.40000  8.5       14.041667 16.81944 \n",
       "6936 chic 40   33.6 2005-12-27 23.56000 27.0        4.468750 23.50000 \n",
       "6937 chic 37   34.5 2005-12-28 17.75000 27.5        3.260417 19.28563 \n",
       "6938 chic 35   29.4 2005-12-29  7.45000 23.5        6.794837 19.97222 \n",
       "6939 chic 36   31.0 2005-12-30 15.05714 19.2        3.034420 22.80556 \n",
       "6940 chic 35   30.1 2005-12-31 15.00000 23.5        2.531250 13.25000 \n",
       "     pmdev    \n",
       "6935 -7.830958\n",
       "6936  7.329042\n",
       "6937  1.519042\n",
       "6938 -8.780958\n",
       "6939 -1.173815\n",
       "6940 -1.230958"
      ]
     },
     "metadata": {},
     "output_type": "display_data"
    }
   ],
   "source": [
    "chim=mutate(chir,pmdev=pm25-mean(pm25,na.rm=TRUE))\n",
    "tail(chir)\n",
    "tail(chim)"
   ]
  },
  {
   "cell_type": "code",
   "execution_count": 41,
   "metadata": {
    "collapsed": false
   },
   "outputs": [
    {
     "data": {
      "text/html": [
       "<table>\n",
       "<thead><tr><th></th><th scope=col>city</th><th scope=col>temp</th><th scope=col>dew</th><th scope=col>date</th><th scope=col>pm25</th><th scope=col>pm10tmean2</th><th scope=col>o3tmean2</th><th scope=col>no2tmean2</th></tr></thead>\n",
       "<tbody>\n",
       "\t<tr><th scope=row>6935</th><td>chic      </td><td>35        </td><td>29.6      </td><td>2005-12-26</td><td> 8.40000  </td><td> 8.5      </td><td>14.041667 </td><td>16.81944  </td></tr>\n",
       "\t<tr><th scope=row>6936</th><td>chic      </td><td>40        </td><td>33.6      </td><td>2005-12-27</td><td>23.56000  </td><td>27.0      </td><td> 4.468750 </td><td>23.50000  </td></tr>\n",
       "\t<tr><th scope=row>6937</th><td>chic      </td><td>37        </td><td>34.5      </td><td>2005-12-28</td><td>17.75000  </td><td>27.5      </td><td> 3.260417 </td><td>19.28563  </td></tr>\n",
       "\t<tr><th scope=row>6938</th><td>chic      </td><td>35        </td><td>29.4      </td><td>2005-12-29</td><td> 7.45000  </td><td>23.5      </td><td> 6.794837 </td><td>19.97222  </td></tr>\n",
       "\t<tr><th scope=row>6939</th><td>chic      </td><td>36        </td><td>31.0      </td><td>2005-12-30</td><td>15.05714  </td><td>19.2      </td><td> 3.034420 </td><td>22.80556  </td></tr>\n",
       "\t<tr><th scope=row>6940</th><td>chic      </td><td>35        </td><td>30.1      </td><td>2005-12-31</td><td>15.00000  </td><td>23.5      </td><td> 2.531250 </td><td>13.25000  </td></tr>\n",
       "</tbody>\n",
       "</table>\n"
      ],
      "text/latex": [
       "\\begin{tabular}{r|llllllll}\n",
       "  & city & temp & dew & date & pm25 & pm10tmean2 & o3tmean2 & no2tmean2\\\\\n",
       "\\hline\n",
       "\t6935 & chic       & 35         & 29.6       & 2005-12-26 &  8.40000   &  8.5       & 14.041667  & 16.81944  \\\\\n",
       "\t6936 & chic       & 40         & 33.6       & 2005-12-27 & 23.56000   & 27.0       &  4.468750  & 23.50000  \\\\\n",
       "\t6937 & chic       & 37         & 34.5       & 2005-12-28 & 17.75000   & 27.5       &  3.260417  & 19.28563  \\\\\n",
       "\t6938 & chic       & 35         & 29.4       & 2005-12-29 &  7.45000   & 23.5       &  6.794837  & 19.97222  \\\\\n",
       "\t6939 & chic       & 36         & 31.0       & 2005-12-30 & 15.05714   & 19.2       &  3.034420  & 22.80556  \\\\\n",
       "\t6940 & chic       & 35         & 30.1       & 2005-12-31 & 15.00000   & 23.5       &  2.531250  & 13.25000  \\\\\n",
       "\\end{tabular}\n"
      ],
      "text/plain": [
       "     city temp dew  date       pm25     pm10tmean2 o3tmean2  no2tmean2\n",
       "6935 chic 35   29.6 2005-12-26  8.40000  8.5       14.041667 16.81944 \n",
       "6936 chic 40   33.6 2005-12-27 23.56000 27.0        4.468750 23.50000 \n",
       "6937 chic 37   34.5 2005-12-28 17.75000 27.5        3.260417 19.28563 \n",
       "6938 chic 35   29.4 2005-12-29  7.45000 23.5        6.794837 19.97222 \n",
       "6939 chic 36   31.0 2005-12-30 15.05714 19.2        3.034420 22.80556 \n",
       "6940 chic 35   30.1 2005-12-31 15.00000 23.5        2.531250 13.25000 "
      ]
     },
     "metadata": {},
     "output_type": "display_data"
    },
    {
     "data": {
      "text/html": [
       "<table>\n",
       "<thead><tr><th></th><th scope=col>pmdev</th></tr></thead>\n",
       "<tbody>\n",
       "\t<tr><th scope=row>6935</th><td>-7.830958</td></tr>\n",
       "\t<tr><th scope=row>6936</th><td> 7.329042</td></tr>\n",
       "\t<tr><th scope=row>6937</th><td> 1.519042</td></tr>\n",
       "\t<tr><th scope=row>6938</th><td>-8.780958</td></tr>\n",
       "\t<tr><th scope=row>6939</th><td>-1.173815</td></tr>\n",
       "\t<tr><th scope=row>6940</th><td>-1.230958</td></tr>\n",
       "</tbody>\n",
       "</table>\n"
      ],
      "text/latex": [
       "\\begin{tabular}{r|l}\n",
       "  & pmdev\\\\\n",
       "\\hline\n",
       "\t6935 & -7.830958\\\\\n",
       "\t6936 &  7.329042\\\\\n",
       "\t6937 &  1.519042\\\\\n",
       "\t6938 & -8.780958\\\\\n",
       "\t6939 & -1.173815\\\\\n",
       "\t6940 & -1.230958\\\\\n",
       "\\end{tabular}\n"
      ],
      "text/plain": [
       "     pmdev    \n",
       "6935 -7.830958\n",
       "6936  7.329042\n",
       "6937  1.519042\n",
       "6938 -8.780958\n",
       "6939 -1.173815\n",
       "6940 -1.230958"
      ]
     },
     "metadata": {},
     "output_type": "display_data"
    }
   ],
   "source": [
    "chim=transmute(chir,pmdev=pm25-mean(pm25,na.rm=TRUE))\n",
    "tail(chir)\n",
    "tail(chim)"
   ]
  },
  {
   "cell_type": "markdown",
   "metadata": {
    "collapsed": true
   },
   "source": [
    "## Group_by"
   ]
  },
  {
   "cell_type": "code",
   "execution_count": 61,
   "metadata": {
    "collapsed": false
   },
   "outputs": [
    {
     "data": {
      "text/plain": [
       "[1] \"2016-09-05 12:06:24 IST\""
      ]
     },
     "metadata": {},
     "output_type": "display_data"
    }
   ],
   "source": [
    "Sys.time()"
   ]
  },
  {
   "cell_type": "code",
   "execution_count": 70,
   "metadata": {
    "collapsed": false
   },
   "outputs": [
    {
     "data": {
      "text/html": [
       "<table>\n",
       "<thead><tr><th scope=col>city</th><th scope=col>tmpd</th><th scope=col>dptp</th><th scope=col>date</th><th scope=col>pm25tmean2</th><th scope=col>pm10tmean2</th><th scope=col>o3tmean2</th><th scope=col>no2tmean2</th></tr></thead>\n",
       "<tbody>\n",
       "\t<tr><td>chic      </td><td>31.5      </td><td>31.500    </td><td>1987-01-01</td><td>NA        </td><td>34.00000  </td><td>4.250000  </td><td>19.98810  </td></tr>\n",
       "\t<tr><td>chic      </td><td>33.0      </td><td>29.875    </td><td>1987-01-02</td><td>NA        </td><td>      NA  </td><td>3.304348  </td><td>23.19099  </td></tr>\n",
       "\t<tr><td>chic      </td><td>33.0      </td><td>27.375    </td><td>1987-01-03</td><td>NA        </td><td>34.16667  </td><td>3.333333  </td><td>23.81548  </td></tr>\n",
       "\t<tr><td>chic      </td><td>29.0      </td><td>28.625    </td><td>1987-01-04</td><td>NA        </td><td>47.00000  </td><td>4.375000  </td><td>30.43452  </td></tr>\n",
       "\t<tr><td>chic      </td><td>32.0      </td><td>28.875    </td><td>1987-01-05</td><td>NA        </td><td>      NA  </td><td>4.750000  </td><td>30.33333  </td></tr>\n",
       "\t<tr><td>chic      </td><td>40.0      </td><td>35.125    </td><td>1987-01-06</td><td>NA        </td><td>48.00000  </td><td>5.833333  </td><td>25.77233  </td></tr>\n",
       "</tbody>\n",
       "</table>\n"
      ],
      "text/latex": [
       "\\begin{tabular}{r|llllllll}\n",
       " city & tmpd & dptp & date & pm25tmean2 & pm10tmean2 & o3tmean2 & no2tmean2\\\\\n",
       "\\hline\n",
       "\t chic       & 31.5       & 31.500     & 1987-01-01 & NA         & 34.00000   & 4.250000   & 19.98810  \\\\\n",
       "\t chic       & 33.0       & 29.875     & 1987-01-02 & NA         &       NA   & 3.304348   & 23.19099  \\\\\n",
       "\t chic       & 33.0       & 27.375     & 1987-01-03 & NA         & 34.16667   & 3.333333   & 23.81548  \\\\\n",
       "\t chic       & 29.0       & 28.625     & 1987-01-04 & NA         & 47.00000   & 4.375000   & 30.43452  \\\\\n",
       "\t chic       & 32.0       & 28.875     & 1987-01-05 & NA         &       NA   & 4.750000   & 30.33333  \\\\\n",
       "\t chic       & 40.0       & 35.125     & 1987-01-06 & NA         & 48.00000   & 5.833333   & 25.77233  \\\\\n",
       "\\end{tabular}\n"
      ],
      "text/plain": [
       "  city tmpd dptp   date       pm25tmean2 pm10tmean2 o3tmean2 no2tmean2\n",
       "1 chic 31.5 31.500 1987-01-01 NA         34.00000   4.250000 19.98810 \n",
       "2 chic 33.0 29.875 1987-01-02 NA               NA   3.304348 23.19099 \n",
       "3 chic 33.0 27.375 1987-01-03 NA         34.16667   3.333333 23.81548 \n",
       "4 chic 29.0 28.625 1987-01-04 NA         47.00000   4.375000 30.43452 \n",
       "5 chic 32.0 28.875 1987-01-05 NA               NA   4.750000 30.33333 \n",
       "6 chic 40.0 35.125 1987-01-06 NA         48.00000   5.833333 25.77233 "
      ]
     },
     "metadata": {},
     "output_type": "display_data"
    },
    {
     "data": {
      "text/html": [
       "<table>\n",
       "<thead><tr><th scope=col>city</th><th scope=col>tmpd</th><th scope=col>dptp</th><th scope=col>date</th><th scope=col>pm25tmean2</th><th scope=col>pm10tmean2</th><th scope=col>o3tmean2</th><th scope=col>no2tmean2</th><th scope=col>year</th></tr></thead>\n",
       "<tbody>\n",
       "\t<tr><td>chic      </td><td>31.5      </td><td>31.500    </td><td>1987-01-01</td><td>NA        </td><td>34.00000  </td><td>4.250000  </td><td>19.98810  </td><td>1987      </td></tr>\n",
       "\t<tr><td>chic      </td><td>33.0      </td><td>29.875    </td><td>1987-01-02</td><td>NA        </td><td>      NA  </td><td>3.304348  </td><td>23.19099  </td><td>1987      </td></tr>\n",
       "\t<tr><td>chic      </td><td>33.0      </td><td>27.375    </td><td>1987-01-03</td><td>NA        </td><td>34.16667  </td><td>3.333333  </td><td>23.81548  </td><td>1987      </td></tr>\n",
       "\t<tr><td>chic      </td><td>29.0      </td><td>28.625    </td><td>1987-01-04</td><td>NA        </td><td>47.00000  </td><td>4.375000  </td><td>30.43452  </td><td>1987      </td></tr>\n",
       "\t<tr><td>chic      </td><td>32.0      </td><td>28.875    </td><td>1987-01-05</td><td>NA        </td><td>      NA  </td><td>4.750000  </td><td>30.33333  </td><td>1987      </td></tr>\n",
       "\t<tr><td>chic      </td><td>40.0      </td><td>35.125    </td><td>1987-01-06</td><td>NA        </td><td>48.00000  </td><td>5.833333  </td><td>25.77233  </td><td>1987      </td></tr>\n",
       "</tbody>\n",
       "</table>\n"
      ],
      "text/latex": [
       "\\begin{tabular}{r|lllllllll}\n",
       " city & tmpd & dptp & date & pm25tmean2 & pm10tmean2 & o3tmean2 & no2tmean2 & year\\\\\n",
       "\\hline\n",
       "\t chic       & 31.5       & 31.500     & 1987-01-01 & NA         & 34.00000   & 4.250000   & 19.98810   & 1987      \\\\\n",
       "\t chic       & 33.0       & 29.875     & 1987-01-02 & NA         &       NA   & 3.304348   & 23.19099   & 1987      \\\\\n",
       "\t chic       & 33.0       & 27.375     & 1987-01-03 & NA         & 34.16667   & 3.333333   & 23.81548   & 1987      \\\\\n",
       "\t chic       & 29.0       & 28.625     & 1987-01-04 & NA         & 47.00000   & 4.375000   & 30.43452   & 1987      \\\\\n",
       "\t chic       & 32.0       & 28.875     & 1987-01-05 & NA         &       NA   & 4.750000   & 30.33333   & 1987      \\\\\n",
       "\t chic       & 40.0       & 35.125     & 1987-01-06 & NA         & 48.00000   & 5.833333   & 25.77233   & 1987      \\\\\n",
       "\\end{tabular}\n"
      ],
      "text/plain": [
       "  city tmpd dptp   date       pm25tmean2 pm10tmean2 o3tmean2 no2tmean2 year\n",
       "1 chic 31.5 31.500 1987-01-01 NA         34.00000   4.250000 19.98810  1987\n",
       "2 chic 33.0 29.875 1987-01-02 NA               NA   3.304348 23.19099  1987\n",
       "3 chic 33.0 27.375 1987-01-03 NA         34.16667   3.333333 23.81548  1987\n",
       "4 chic 29.0 28.625 1987-01-04 NA         47.00000   4.375000 30.43452  1987\n",
       "5 chic 32.0 28.875 1987-01-05 NA               NA   4.750000 30.33333  1987\n",
       "6 chic 40.0 35.125 1987-01-06 NA         48.00000   5.833333 25.77233  1987"
      ]
     },
     "metadata": {},
     "output_type": "display_data"
    },
    {
     "name": "stdout",
     "output_type": "stream",
     "text": [
      "======================================================================================================"
     ]
    },
    {
     "data": {
      "text/html": [
       "<table>\n",
       "<thead><tr><th></th><th scope=col>city</th><th scope=col>tmpd</th><th scope=col>dptp</th><th scope=col>date</th><th scope=col>pm25tmean2</th><th scope=col>pm10tmean2</th><th scope=col>o3tmean2</th><th scope=col>no2tmean2</th></tr></thead>\n",
       "<tbody>\n",
       "\t<tr><th scope=row>6935</th><td>chic      </td><td>35        </td><td>29.6      </td><td>2005-12-26</td><td> 8.40000  </td><td> 8.5      </td><td>14.041667 </td><td>16.81944  </td></tr>\n",
       "\t<tr><th scope=row>6936</th><td>chic      </td><td>40        </td><td>33.6      </td><td>2005-12-27</td><td>23.56000  </td><td>27.0      </td><td> 4.468750 </td><td>23.50000  </td></tr>\n",
       "\t<tr><th scope=row>6937</th><td>chic      </td><td>37        </td><td>34.5      </td><td>2005-12-28</td><td>17.75000  </td><td>27.5      </td><td> 3.260417 </td><td>19.28563  </td></tr>\n",
       "\t<tr><th scope=row>6938</th><td>chic      </td><td>35        </td><td>29.4      </td><td>2005-12-29</td><td> 7.45000  </td><td>23.5      </td><td> 6.794837 </td><td>19.97222  </td></tr>\n",
       "\t<tr><th scope=row>6939</th><td>chic      </td><td>36        </td><td>31.0      </td><td>2005-12-30</td><td>15.05714  </td><td>19.2      </td><td> 3.034420 </td><td>22.80556  </td></tr>\n",
       "\t<tr><th scope=row>6940</th><td>chic      </td><td>35        </td><td>30.1      </td><td>2005-12-31</td><td>15.00000  </td><td>23.5      </td><td> 2.531250 </td><td>13.25000  </td></tr>\n",
       "</tbody>\n",
       "</table>\n"
      ],
      "text/latex": [
       "\\begin{tabular}{r|llllllll}\n",
       "  & city & tmpd & dptp & date & pm25tmean2 & pm10tmean2 & o3tmean2 & no2tmean2\\\\\n",
       "\\hline\n",
       "\t6935 & chic       & 35         & 29.6       & 2005-12-26 &  8.40000   &  8.5       & 14.041667  & 16.81944  \\\\\n",
       "\t6936 & chic       & 40         & 33.6       & 2005-12-27 & 23.56000   & 27.0       &  4.468750  & 23.50000  \\\\\n",
       "\t6937 & chic       & 37         & 34.5       & 2005-12-28 & 17.75000   & 27.5       &  3.260417  & 19.28563  \\\\\n",
       "\t6938 & chic       & 35         & 29.4       & 2005-12-29 &  7.45000   & 23.5       &  6.794837  & 19.97222  \\\\\n",
       "\t6939 & chic       & 36         & 31.0       & 2005-12-30 & 15.05714   & 19.2       &  3.034420  & 22.80556  \\\\\n",
       "\t6940 & chic       & 35         & 30.1       & 2005-12-31 & 15.00000   & 23.5       &  2.531250  & 13.25000  \\\\\n",
       "\\end{tabular}\n"
      ],
      "text/plain": [
       "     city tmpd dptp date       pm25tmean2 pm10tmean2 o3tmean2  no2tmean2\n",
       "6935 chic 35   29.6 2005-12-26  8.40000    8.5       14.041667 16.81944 \n",
       "6936 chic 40   33.6 2005-12-27 23.56000   27.0        4.468750 23.50000 \n",
       "6937 chic 37   34.5 2005-12-28 17.75000   27.5        3.260417 19.28563 \n",
       "6938 chic 35   29.4 2005-12-29  7.45000   23.5        6.794837 19.97222 \n",
       "6939 chic 36   31.0 2005-12-30 15.05714   19.2        3.034420 22.80556 \n",
       "6940 chic 35   30.1 2005-12-31 15.00000   23.5        2.531250 13.25000 "
      ]
     },
     "metadata": {},
     "output_type": "display_data"
    },
    {
     "data": {
      "text/html": [
       "<table>\n",
       "<thead><tr><th></th><th scope=col>city</th><th scope=col>tmpd</th><th scope=col>dptp</th><th scope=col>date</th><th scope=col>pm25tmean2</th><th scope=col>pm10tmean2</th><th scope=col>o3tmean2</th><th scope=col>no2tmean2</th><th scope=col>year</th></tr></thead>\n",
       "<tbody>\n",
       "\t<tr><th scope=row>6935</th><td>chic      </td><td>35        </td><td>29.6      </td><td>2005-12-26</td><td> 8.40000  </td><td> 8.5      </td><td>14.041667 </td><td>16.81944  </td><td>2005      </td></tr>\n",
       "\t<tr><th scope=row>6936</th><td>chic      </td><td>40        </td><td>33.6      </td><td>2005-12-27</td><td>23.56000  </td><td>27.0      </td><td> 4.468750 </td><td>23.50000  </td><td>2005      </td></tr>\n",
       "\t<tr><th scope=row>6937</th><td>chic      </td><td>37        </td><td>34.5      </td><td>2005-12-28</td><td>17.75000  </td><td>27.5      </td><td> 3.260417 </td><td>19.28563  </td><td>2005      </td></tr>\n",
       "\t<tr><th scope=row>6938</th><td>chic      </td><td>35        </td><td>29.4      </td><td>2005-12-29</td><td> 7.45000  </td><td>23.5      </td><td> 6.794837 </td><td>19.97222  </td><td>2005      </td></tr>\n",
       "\t<tr><th scope=row>6939</th><td>chic      </td><td>36        </td><td>31.0      </td><td>2005-12-30</td><td>15.05714  </td><td>19.2      </td><td> 3.034420 </td><td>22.80556  </td><td>2005      </td></tr>\n",
       "\t<tr><th scope=row>6940</th><td>chic      </td><td>35        </td><td>30.1      </td><td>2005-12-31</td><td>15.00000  </td><td>23.5      </td><td> 2.531250 </td><td>13.25000  </td><td>2005      </td></tr>\n",
       "</tbody>\n",
       "</table>\n"
      ],
      "text/latex": [
       "\\begin{tabular}{r|lllllllll}\n",
       "  & city & tmpd & dptp & date & pm25tmean2 & pm10tmean2 & o3tmean2 & no2tmean2 & year\\\\\n",
       "\\hline\n",
       "\t6935 & chic       & 35         & 29.6       & 2005-12-26 &  8.40000   &  8.5       & 14.041667  & 16.81944   & 2005      \\\\\n",
       "\t6936 & chic       & 40         & 33.6       & 2005-12-27 & 23.56000   & 27.0       &  4.468750  & 23.50000   & 2005      \\\\\n",
       "\t6937 & chic       & 37         & 34.5       & 2005-12-28 & 17.75000   & 27.5       &  3.260417  & 19.28563   & 2005      \\\\\n",
       "\t6938 & chic       & 35         & 29.4       & 2005-12-29 &  7.45000   & 23.5       &  6.794837  & 19.97222   & 2005      \\\\\n",
       "\t6939 & chic       & 36         & 31.0       & 2005-12-30 & 15.05714   & 19.2       &  3.034420  & 22.80556   & 2005      \\\\\n",
       "\t6940 & chic       & 35         & 30.1       & 2005-12-31 & 15.00000   & 23.5       &  2.531250  & 13.25000   & 2005      \\\\\n",
       "\\end{tabular}\n"
      ],
      "text/plain": [
       "     city tmpd dptp date       pm25tmean2 pm10tmean2 o3tmean2  no2tmean2 year\n",
       "6935 chic 35   29.6 2005-12-26  8.40000    8.5       14.041667 16.81944  2005\n",
       "6936 chic 40   33.6 2005-12-27 23.56000   27.0        4.468750 23.50000  2005\n",
       "6937 chic 37   34.5 2005-12-28 17.75000   27.5        3.260417 19.28563  2005\n",
       "6938 chic 35   29.4 2005-12-29  7.45000   23.5        6.794837 19.97222  2005\n",
       "6939 chic 36   31.0 2005-12-30 15.05714   19.2        3.034420 22.80556  2005\n",
       "6940 chic 35   30.1 2005-12-31 15.00000   23.5        2.531250 13.25000  2005"
      ]
     },
     "metadata": {},
     "output_type": "display_data"
    }
   ],
   "source": [
    "chig=mutate(chi, year=as.POSIXlt(date)$year+1900)\n",
    "head(chi)\n",
    "head(chig)\n",
    "cat(\"======================================================================================================\")\n",
    "tail(chi)\n",
    "tail(chig)"
   ]
  },
  {
   "cell_type": "code",
   "execution_count": 106,
   "metadata": {
    "collapsed": false,
    "scrolled": false
   },
   "outputs": [
    {
     "data": {
      "text/html": [
       "<table>\n",
       "<thead><tr><th scope=col>city</th><th scope=col>tmpd</th><th scope=col>dptp</th><th scope=col>date</th><th scope=col>pm25tmean2</th><th scope=col>pm10tmean2</th><th scope=col>o3tmean2</th><th scope=col>no2tmean2</th><th scope=col>year</th></tr></thead>\n",
       "<tbody>\n",
       "\t<tr><td>chic      </td><td>31.5      </td><td>31.500    </td><td>1987-01-01</td><td>NA        </td><td>34.00000  </td><td>4.250000  </td><td>19.98810  </td><td>1987      </td></tr>\n",
       "\t<tr><td>chic      </td><td>33.0      </td><td>29.875    </td><td>1987-01-02</td><td>NA        </td><td>      NA  </td><td>3.304348  </td><td>23.19099  </td><td>1987      </td></tr>\n",
       "\t<tr><td>chic      </td><td>33.0      </td><td>27.375    </td><td>1987-01-03</td><td>NA        </td><td>34.16667  </td><td>3.333333  </td><td>23.81548  </td><td>1987      </td></tr>\n",
       "\t<tr><td>chic      </td><td>29.0      </td><td>28.625    </td><td>1987-01-04</td><td>NA        </td><td>47.00000  </td><td>4.375000  </td><td>30.43452  </td><td>1987      </td></tr>\n",
       "\t<tr><td>chic      </td><td>32.0      </td><td>28.875    </td><td>1987-01-05</td><td>NA        </td><td>      NA  </td><td>4.750000  </td><td>30.33333  </td><td>1987      </td></tr>\n",
       "\t<tr><td>chic      </td><td>40.0      </td><td>35.125    </td><td>1987-01-06</td><td>NA        </td><td>48.00000  </td><td>5.833333  </td><td>25.77233  </td><td>1987      </td></tr>\n",
       "</tbody>\n",
       "</table>\n"
      ],
      "text/latex": [
       "\\begin{tabular}{r|lllllllll}\n",
       " city & tmpd & dptp & date & pm25tmean2 & pm10tmean2 & o3tmean2 & no2tmean2 & year\\\\\n",
       "\\hline\n",
       "\t chic       & 31.5       & 31.500     & 1987-01-01 & NA         & 34.00000   & 4.250000   & 19.98810   & 1987      \\\\\n",
       "\t chic       & 33.0       & 29.875     & 1987-01-02 & NA         &       NA   & 3.304348   & 23.19099   & 1987      \\\\\n",
       "\t chic       & 33.0       & 27.375     & 1987-01-03 & NA         & 34.16667   & 3.333333   & 23.81548   & 1987      \\\\\n",
       "\t chic       & 29.0       & 28.625     & 1987-01-04 & NA         & 47.00000   & 4.375000   & 30.43452   & 1987      \\\\\n",
       "\t chic       & 32.0       & 28.875     & 1987-01-05 & NA         &       NA   & 4.750000   & 30.33333   & 1987      \\\\\n",
       "\t chic       & 40.0       & 35.125     & 1987-01-06 & NA         & 48.00000   & 5.833333   & 25.77233   & 1987      \\\\\n",
       "\\end{tabular}\n"
      ],
      "text/plain": [
       "  city tmpd dptp   date       pm25tmean2 pm10tmean2 o3tmean2 no2tmean2 year\n",
       "1 chic 31.5 31.500 1987-01-01 NA         34.00000   4.250000 19.98810  1987\n",
       "2 chic 33.0 29.875 1987-01-02 NA               NA   3.304348 23.19099  1987\n",
       "3 chic 33.0 27.375 1987-01-03 NA         34.16667   3.333333 23.81548  1987\n",
       "4 chic 29.0 28.625 1987-01-04 NA         47.00000   4.375000 30.43452  1987\n",
       "5 chic 32.0 28.875 1987-01-05 NA               NA   4.750000 30.33333  1987\n",
       "6 chic 40.0 35.125 1987-01-06 NA         48.00000   5.833333 25.77233  1987"
      ]
     },
     "metadata": {},
     "output_type": "display_data"
    },
    {
     "data": {
      "text/html": [
       "<table>\n",
       "<thead><tr><th scope=col>year</th><th scope=col>meanT</th></tr></thead>\n",
       "<tbody>\n",
       "\t<tr><td>1987    </td><td>52.12603</td></tr>\n",
       "\t<tr><td>1988    </td><td>49.93579</td></tr>\n",
       "\t<tr><td>1989    </td><td>48.36712</td></tr>\n",
       "\t<tr><td>1990    </td><td>51.67260</td></tr>\n",
       "\t<tr><td>1991    </td><td>51.40274</td></tr>\n",
       "\t<tr><td>1992    </td><td>48.81148</td></tr>\n",
       "\t<tr><td>1993    </td><td>48.71918</td></tr>\n",
       "\t<tr><td>1994    </td><td>50.08219</td></tr>\n",
       "\t<tr><td>1995    </td><td>50.20959</td></tr>\n",
       "\t<tr><td>1996    </td><td>47.39481</td></tr>\n",
       "\t<tr><td>1997    </td><td>48.70959</td></tr>\n",
       "\t<tr><td>1998    </td><td>53.78356</td></tr>\n",
       "\t<tr><td>1999    </td><td>51.46301</td></tr>\n",
       "\t<tr><td>2000    </td><td>50.04098</td></tr>\n",
       "\t<tr><td>2001    </td><td>51.04384</td></tr>\n",
       "\t<tr><td>2002    </td><td>51.16986</td></tr>\n",
       "\t<tr><td>2003    </td><td>49.30495</td></tr>\n",
       "\t<tr><td>2004    </td><td>50.12568</td></tr>\n",
       "\t<tr><td>2005    </td><td>51.52603</td></tr>\n",
       "</tbody>\n",
       "</table>\n"
      ],
      "text/latex": [
       "\\begin{tabular}{r|ll}\n",
       " year & meanT\\\\\n",
       "\\hline\n",
       "\t 1987     & 52.12603\\\\\n",
       "\t 1988     & 49.93579\\\\\n",
       "\t 1989     & 48.36712\\\\\n",
       "\t 1990     & 51.67260\\\\\n",
       "\t 1991     & 51.40274\\\\\n",
       "\t 1992     & 48.81148\\\\\n",
       "\t 1993     & 48.71918\\\\\n",
       "\t 1994     & 50.08219\\\\\n",
       "\t 1995     & 50.20959\\\\\n",
       "\t 1996     & 47.39481\\\\\n",
       "\t 1997     & 48.70959\\\\\n",
       "\t 1998     & 53.78356\\\\\n",
       "\t 1999     & 51.46301\\\\\n",
       "\t 2000     & 50.04098\\\\\n",
       "\t 2001     & 51.04384\\\\\n",
       "\t 2002     & 51.16986\\\\\n",
       "\t 2003     & 49.30495\\\\\n",
       "\t 2004     & 50.12568\\\\\n",
       "\t 2005     & 51.52603\\\\\n",
       "\\end{tabular}\n"
      ],
      "text/plain": [
       "   year meanT   \n",
       "1  1987 52.12603\n",
       "2  1988 49.93579\n",
       "3  1989 48.36712\n",
       "4  1990 51.67260\n",
       "5  1991 51.40274\n",
       "6  1992 48.81148\n",
       "7  1993 48.71918\n",
       "8  1994 50.08219\n",
       "9  1995 50.20959\n",
       "10 1996 47.39481\n",
       "11 1997 48.70959\n",
       "12 1998 53.78356\n",
       "13 1999 51.46301\n",
       "14 2000 50.04098\n",
       "15 2001 51.04384\n",
       "16 2002 51.16986\n",
       "17 2003 49.30495\n",
       "18 2004 50.12568\n",
       "19 2005 51.52603"
      ]
     },
     "metadata": {},
     "output_type": "display_data"
    },
    {
     "data": {
      "text/html": [
       "<table>\n",
       "<thead><tr><th scope=col>year</th><th scope=col>meanT</th><th scope=col>maxT</th><th scope=col>minT</th></tr></thead>\n",
       "<tbody>\n",
       "\t<tr><td>1987    </td><td>52.12603</td><td>87.0    </td><td>  2.0   </td></tr>\n",
       "\t<tr><td>1988    </td><td>49.93579</td><td>89.5    </td><td> -6.5   </td></tr>\n",
       "\t<tr><td>1989    </td><td>48.36712</td><td>86.5    </td><td> -6.5   </td></tr>\n",
       "\t<tr><td>1990    </td><td>51.67260</td><td>86.5    </td><td>  3.5   </td></tr>\n",
       "\t<tr><td>1991    </td><td>51.40274</td><td>88.0    </td><td>  6.5   </td></tr>\n",
       "\t<tr><td>1992    </td><td>48.81148</td><td>80.0    </td><td>  5.5   </td></tr>\n",
       "\t<tr><td>1993    </td><td>48.71918</td><td>84.0    </td><td>  5.0   </td></tr>\n",
       "\t<tr><td>1994    </td><td>50.08219</td><td>86.0    </td><td>-16.0   </td></tr>\n",
       "\t<tr><td>1995    </td><td>50.20959</td><td>92.0    </td><td>  0.5   </td></tr>\n",
       "\t<tr><td>1996    </td><td>47.39481</td><td>83.0    </td><td>-12.0   </td></tr>\n",
       "\t<tr><td>1997    </td><td>48.70959</td><td>85.5    </td><td> -3.0   </td></tr>\n",
       "\t<tr><td>1998    </td><td>53.78356</td><td>85.0    </td><td>  7.0   </td></tr>\n",
       "\t<tr><td>1999    </td><td>51.46301</td><td>90.0    </td><td> -2.0   </td></tr>\n",
       "\t<tr><td>2000    </td><td>50.04098</td><td>82.0    </td><td> -1.0   </td></tr>\n",
       "\t<tr><td>2001    </td><td>51.04384</td><td>85.0    </td><td>  5.0   </td></tr>\n",
       "\t<tr><td>2002    </td><td>51.16986</td><td>87.0    </td><td>  6.0   </td></tr>\n",
       "\t<tr><td>2003    </td><td>49.30495</td><td>84.0    </td><td>  4.0   </td></tr>\n",
       "\t<tr><td>2004    </td><td>50.12568</td><td>83.0    </td><td> -3.0   </td></tr>\n",
       "\t<tr><td>2005    </td><td>51.52603</td><td>90.0    </td><td>  5.0   </td></tr>\n",
       "</tbody>\n",
       "</table>\n"
      ],
      "text/latex": [
       "\\begin{tabular}{r|llll}\n",
       " year & meanT & maxT & minT\\\\\n",
       "\\hline\n",
       "\t 1987     & 52.12603 & 87.0     &   2.0   \\\\\n",
       "\t 1988     & 49.93579 & 89.5     &  -6.5   \\\\\n",
       "\t 1989     & 48.36712 & 86.5     &  -6.5   \\\\\n",
       "\t 1990     & 51.67260 & 86.5     &   3.5   \\\\\n",
       "\t 1991     & 51.40274 & 88.0     &   6.5   \\\\\n",
       "\t 1992     & 48.81148 & 80.0     &   5.5   \\\\\n",
       "\t 1993     & 48.71918 & 84.0     &   5.0   \\\\\n",
       "\t 1994     & 50.08219 & 86.0     & -16.0   \\\\\n",
       "\t 1995     & 50.20959 & 92.0     &   0.5   \\\\\n",
       "\t 1996     & 47.39481 & 83.0     & -12.0   \\\\\n",
       "\t 1997     & 48.70959 & 85.5     &  -3.0   \\\\\n",
       "\t 1998     & 53.78356 & 85.0     &   7.0   \\\\\n",
       "\t 1999     & 51.46301 & 90.0     &  -2.0   \\\\\n",
       "\t 2000     & 50.04098 & 82.0     &  -1.0   \\\\\n",
       "\t 2001     & 51.04384 & 85.0     &   5.0   \\\\\n",
       "\t 2002     & 51.16986 & 87.0     &   6.0   \\\\\n",
       "\t 2003     & 49.30495 & 84.0     &   4.0   \\\\\n",
       "\t 2004     & 50.12568 & 83.0     &  -3.0   \\\\\n",
       "\t 2005     & 51.52603 & 90.0     &   5.0   \\\\\n",
       "\\end{tabular}\n"
      ],
      "text/plain": [
       "   year meanT    maxT minT \n",
       "1  1987 52.12603 87.0   2.0\n",
       "2  1988 49.93579 89.5  -6.5\n",
       "3  1989 48.36712 86.5  -6.5\n",
       "4  1990 51.67260 86.5   3.5\n",
       "5  1991 51.40274 88.0   6.5\n",
       "6  1992 48.81148 80.0   5.5\n",
       "7  1993 48.71918 84.0   5.0\n",
       "8  1994 50.08219 86.0 -16.0\n",
       "9  1995 50.20959 92.0   0.5\n",
       "10 1996 47.39481 83.0 -12.0\n",
       "11 1997 48.70959 85.5  -3.0\n",
       "12 1998 53.78356 85.0   7.0\n",
       "13 1999 51.46301 90.0  -2.0\n",
       "14 2000 50.04098 82.0  -1.0\n",
       "15 2001 51.04384 85.0   5.0\n",
       "16 2002 51.16986 87.0   6.0\n",
       "17 2003 49.30495 84.0   4.0\n",
       "18 2004 50.12568 83.0  -3.0\n",
       "19 2005 51.52603 90.0   5.0"
      ]
     },
     "metadata": {},
     "output_type": "display_data"
    },
    {
     "data": {
      "image/png": "[encoded data removed]",
      "text/plain": [
       "plot without title"
      ]
     },
     "metadata": {},
     "output_type": "display_data"
    },
    {
     "data": {
      "image/png": "[encoded data removed]",
      "text/plain": [
       "plot without title"
      ]
     },
     "metadata": {},
     "output_type": "display_data"
    }
   ],
   "source": [
    "chigy=group_by(chig,year)\n",
    "head(chig)\n",
    "chigs=summarize(chigy,meanT=mean(tmpd,na.rm=T))\n",
    "plot(chigs)\n",
    "chigs\n",
    "chigs2=summarize(chigy,meanT=mean(tmpd,na.rm=T),maxT=max(tmpd,na.rm=T),minT=min(tmpd,na.rm=T))\n",
    "chigs2\n",
    "plot(chigs2)"
   ]
  },
  {
   "cell_type": "code",
   "execution_count": null,
   "metadata": {
    "collapsed": true
   },
   "outputs": [],
   "source": []
  }
 ],
 "metadata": {
  "anaconda-cloud": {},
  "kernelspec": {
   "display_name": "R",
   "language": "R",
   "name": "ir"
  },
  "language_info": {
   "codemirror_mode": "r",
   "file_extension": ".r",
   "mimetype": "text/x-r-source",
   "name": "R",
   "pygments_lexer": "r",
   "version": "3.2.3"
  },
  "nbpresent": {
   "slides": {
    "034097ef-f0b5-4cee-8ed8-3af30275f093": {
     "id": "034097ef-f0b5-4cee-8ed8-3af30275f093",
     "prev": "75748215-5eab-43e3-ad97-388a1d9d1d81",
     "regions": {
      "c529a768-aaf6-4ae3-b9b1-28deaef10e3a": {
       "attrs": {
        "height": 0.8,
        "width": 0.8,
        "x": 0.1,
        "y": 0.1
       },
       "content": {
        "cell": "21220ce4-5b4f-4482-ab12-4688e39c3d72",
        "part": "whole"
       },
       "id": "c529a768-aaf6-4ae3-b9b1-28deaef10e3a"
      }
     }
    },
    "1e6b373a-6b1f-4ff9-b7db-039c2454f918": {
     "id": "1e6b373a-6b1f-4ff9-b7db-039c2454f918",
     "prev": "db73eab8-05e4-4dbe-bb4b-0c0c28ec0d85",
     "regions": {
      "ff0ae6f3-40d9-4006-b9e9-ff68d9b1df88": {
       "attrs": {
        "height": 0.8,
        "width": 0.8,
        "x": 0.1,
        "y": 0.1
       },
       "content": {
        "cell": "21e5327a-09b8-4321-8717-d032d2e9f881",
        "part": "whole"
       },
       "id": "ff0ae6f3-40d9-4006-b9e9-ff68d9b1df88"
      }
     }
    },
    "3e85f532-e838-4dc9-bdc0-a4bd2e79a52c": {
     "id": "3e85f532-e838-4dc9-bdc0-a4bd2e79a52c",
     "prev": "5f552d5b-8cab-43b9-a934-1514bd8a5421",
     "regions": {
      "2feb2532-e5da-454e-b2d8-e11652317632": {
       "attrs": {
        "height": 1,
        "width": 1,
        "x": 0,
        "y": 0
       },
       "content": {
        "cell": "f58a6d08-b6a4-468c-a901-ca1409d4e551",
        "part": "source"
       },
       "id": "2feb2532-e5da-454e-b2d8-e11652317632"
      }
     }
    },
    "5f552d5b-8cab-43b9-a934-1514bd8a5421": {
     "id": "5f552d5b-8cab-43b9-a934-1514bd8a5421",
     "prev": "034097ef-f0b5-4cee-8ed8-3af30275f093",
     "regions": {
      "5ec2e799-5a3a-42c2-a28b-93d3352f5ffa": {
       "attrs": {
        "height": 0.8,
        "width": 0.8,
        "x": 0.1,
        "y": 0.1
       },
       "content": {
        "cell": "f58a6d08-b6a4-468c-a901-ca1409d4e551",
        "part": "whole"
       },
       "id": "5ec2e799-5a3a-42c2-a28b-93d3352f5ffa"
      }
     }
    },
    "7108919d-dc74-46ff-9739-80407e33b955": {
     "id": "7108919d-dc74-46ff-9739-80407e33b955",
     "layout": "grid",
     "prev": "92e0386b-0428-4747-9a98-221383e665c4",
     "regions": {},
     "theme": null
    },
    "75748215-5eab-43e3-ad97-388a1d9d1d81": {
     "id": "75748215-5eab-43e3-ad97-388a1d9d1d81",
     "prev": "7108919d-dc74-46ff-9739-80407e33b955",
     "regions": {
      "45ad2ffe-4839-4f0d-a243-0b9ec452ca84": {
       "attrs": {
        "height": 0.8,
        "width": 0.8,
        "x": 0.1,
        "y": 0.1
       },
       "content": {
        "cell": "9cfa8bc1-d6aa-477c-bfbf-110205630473",
        "part": "whole"
       },
       "id": "45ad2ffe-4839-4f0d-a243-0b9ec452ca84"
      }
     }
    },
    "92e0386b-0428-4747-9a98-221383e665c4": {
     "id": "92e0386b-0428-4747-9a98-221383e665c4",
     "prev": "1e6b373a-6b1f-4ff9-b7db-039c2454f918",
     "regions": {
      "4a02cee1-4546-4468-8e4f-06cbab77db02": {
       "attrs": {
        "height": 0.8,
        "width": 0.8,
        "x": 0.1,
        "y": 0.1
       },
       "content": {
        "cell": "6c963ea5-6f5e-4e0e-9e15-c34be5d9dec3",
        "part": "whole"
       },
       "id": "4a02cee1-4546-4468-8e4f-06cbab77db02"
      }
     }
    },
    "936108de-8f81-448a-b32d-a355bfde3437": {
     "id": "936108de-8f81-448a-b32d-a355bfde3437",
     "prev": "3e85f532-e838-4dc9-bdc0-a4bd2e79a52c",
     "regions": {
      "b2314b06-287c-4876-b47e-1ff79c16ed57": {
       "attrs": {
        "height": 0.8,
        "width": 0.8,
        "x": 0.1,
        "y": 0.1
       },
       "content": {
        "cell": "985857fa-a6fe-4265-9598-edd1a127232c",
        "part": "whole"
       },
       "id": "b2314b06-287c-4876-b47e-1ff79c16ed57"
      }
     }
    },
    "db73eab8-05e4-4dbe-bb4b-0c0c28ec0d85": {
     "id": "db73eab8-05e4-4dbe-bb4b-0c0c28ec0d85",
     "prev": null,
     "regions": {
      "afe0b08b-e9fb-45a5-a92b-5dff9ae2c2c4": {
       "attrs": {
        "height": 0.8,
        "width": 0.8,
        "x": 0.1,
        "y": 0.1
       },
       "content": {
        "cell": "b1e25e71-c72e-43f8-a9b8-e98205982d4c",
        "part": "whole"
       },
       "id": "afe0b08b-e9fb-45a5-a92b-5dff9ae2c2c4"
      }
     }
    }
   },
   "themes": {}
  }
 },
 "nbformat": 4,
 "nbformat_minor": 0
}
